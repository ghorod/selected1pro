{
 "cells": [
  {
   "cell_type": "code",
   "execution_count": 17,
   "id": "886c0c45",
   "metadata": {},
   "outputs": [],
   "source": [
    "import numpy as np # linear algebra\n",
    "import pandas as pd # data processing, CSV file I/O (e.g. pd.read_csv)\n",
    "import os\n",
    "import theano\n",
    "import keras\n",
    "import tensorflow\n",
    "import matplotlib.pyplot as plt\n",
    "import seaborn as sns\n",
    "sns.set()\n",
    "from sklearn import datasets\n",
    "from sklearn.model_selection import train_test_split\n",
    "from keras import models\n",
    "from keras import layers\n",
    "from keras import optimizers\n",
    "import matplotlib.pyplot as plt\n",
    "from tensorflow.keras import optimizers"
   ]
  },
  {
   "cell_type": "code",
   "execution_count": 18,
   "id": "4ebb76fe",
   "metadata": {},
   "outputs": [],
   "source": [
    "churn_data = pd.read_csv('Churn_Modelling.csv',index_col='RowNumber')"
   ]
  },
  {
   "cell_type": "code",
   "execution_count": 19,
   "id": "32fa5462",
   "metadata": {},
   "outputs": [
    {
     "name": "stdout",
     "output_type": "stream",
     "text": [
      "<class 'pandas.core.frame.DataFrame'>\n",
      "Int64Index: 10000 entries, 1 to 10000\n",
      "Data columns (total 13 columns):\n",
      " #   Column           Non-Null Count  Dtype  \n",
      "---  ------           --------------  -----  \n",
      " 0   CustomerId       10000 non-null  int64  \n",
      " 1   Surname          10000 non-null  object \n",
      " 2   CreditScore      10000 non-null  int64  \n",
      " 3   Geography        10000 non-null  object \n",
      " 4   Gender           10000 non-null  object \n",
      " 5   Age              10000 non-null  int64  \n",
      " 6   Tenure           10000 non-null  int64  \n",
      " 7   Balance          10000 non-null  float64\n",
      " 8   NumOfProducts    10000 non-null  int64  \n",
      " 9   HasCrCard        10000 non-null  int64  \n",
      " 10  IsActiveMember   10000 non-null  int64  \n",
      " 11  EstimatedSalary  10000 non-null  float64\n",
      " 12  Exited           10000 non-null  int64  \n",
      "dtypes: float64(2), int64(8), object(3)\n",
      "memory usage: 1.1+ MB\n"
     ]
    }
   ],
   "source": [
    "churn_data.info()"
   ]
  },
  {
   "cell_type": "code",
   "execution_count": 20,
   "id": "1756cc5a",
   "metadata": {},
   "outputs": [],
   "source": [
    "# some columns are unproductive remove them\n",
    "churn_data.drop(['CustomerId','Surname'],axis=1,inplace=True)"
   ]
  },
  {
   "cell_type": "code",
   "execution_count": 21,
   "id": "48c6c06c",
   "metadata": {},
   "outputs": [],
   "source": [
    "# some columns have text data so let's one hot encode them\n",
    "Geography_dummies = pd.get_dummies(prefix='Geo',data=churn_data,columns=['Geography'])"
   ]
  },
  {
   "cell_type": "markdown",
   "id": "d212efde",
   "metadata": {},
   "source": []
  },
  {
   "cell_type": "code",
   "execution_count": 22,
   "id": "9d455029",
   "metadata": {},
   "outputs": [],
   "source": [
    "Gender_dummies = Geography_dummies.replace(to_replace={'Gender': {'Female': 1,'Male':0}})\n"
   ]
  },
  {
   "cell_type": "code",
   "execution_count": 23,
   "id": "0276bf97",
   "metadata": {},
   "outputs": [],
   "source": [
    "churn_data_encoded = Gender_dummies"
   ]
  },
  {
   "cell_type": "code",
   "execution_count": 24,
   "id": "5890fd2c",
   "metadata": {},
   "outputs": [
    {
     "data": {
      "image/png": "[encoded data removed]",
      "text/plain": [
       "<Figure size 432x288 with 1 Axes>"
      ]
     },
     "metadata": {},
     "output_type": "display_data"
    }
   ],
   "source": [
    "sns.countplot(y=churn_data_encoded.Exited ,data=churn_data_encoded)\n",
    "plt.xlabel(\"Count of each Target class\")\n",
    "plt.ylabel(\"Target classes\")\n",
    "plt.show()"
   ]
  },
  {
   "cell_type": "code",
   "execution_count": 25,
   "id": "8f220c17",
   "metadata": {},
   "outputs": [],
   "source": [
    "X = churn_data_encoded.drop(['Exited'],axis=1)\n",
    "y = churn_data_encoded.Exited"
   ]
  },
  {
   "cell_type": "code",
   "execution_count": 26,
   "id": "9f38e1c7",
   "metadata": {},
   "outputs": [],
   "source": [
    "# Splitting the dataset into the Training set and Test set\n",
    "from sklearn.model_selection import train_test_split\n",
    "X_train, X_test, y_train, y_test = train_test_split(X, y, test_size = 0.33, random_state = 0)"
   ]
  },
  {
   "cell_type": "code",
   "execution_count": 27,
   "id": "745268ab",
   "metadata": {},
   "outputs": [],
   "source": [
    "# Feature Scaling because yes we don't want one independent variable dominating the other and it makes computations easy\n",
    "from sklearn.preprocessing import StandardScaler\n",
    "sc = StandardScaler()\n",
    "X_train = sc.fit_transform(X_train)\n",
    "X_test = sc.transform(X_test)"
   ]
  },
  {
   "cell_type": "code",
   "execution_count": 28,
   "id": "6d4c22d9",
   "metadata": {},
   "outputs": [],
   "source": [
    "# sequential model to initialise our ann and dense module to build the layers\n",
    "from keras.models import Sequential\n",
    "from keras.layers import Dense"
   ]
  },
  {
   "cell_type": "code",
   "execution_count": 29,
   "id": "6dd86468",
   "metadata": {},
   "outputs": [
    {
     "name": "stdout",
     "output_type": "stream",
     "text": [
      "670/670 [==============================] - 1s 1ms/step - loss: 0.3965 - accuracy: 0.8357\n",
      "Train score: 0.39648982882499695\n",
      "Train accuracy: 0.8356716632843018\n",
      "********************\n",
      "330/330 [==============================] - 1s 977us/step - loss: 0.4025 - accuracy: 0.8385\n",
      "Test score: 0.4025014042854309\n",
      "Test accuracy: 0.8384848237037659\n"
     ]
    }
   ],
   "source": [
    "classifier = Sequential()\n",
    "# Adding the input layer and the first hidden layer\n",
    "classifier.add(Dense(units = 6, kernel_initializer = 'uniform', activation = 'relu', input_dim = 12))\n",
    "\n",
    "# Adding the second hidden layer\n",
    "classifier.add(Dense(units = 6, kernel_initializer = 'uniform', activation = 'relu'))\n",
    "\n",
    "# Adding the output layer\n",
    "classifier.add(Dense(units = 1, kernel_initializer = 'uniform', activation = 'sigmoid'))\n",
    "\n",
    "# Compiling the ANN | means applying SGD on the whole ANN\n",
    "classifier.compile(optimizer = 'adam', loss = 'binary_crossentropy', metrics = ['accuracy'])\n",
    "\n",
    "# Fitting the ANN to the Training set\n",
    "classifier.fit(X_train, y_train, batch_size = 10, epochs = 100,verbose = 0)\n",
    "\n",
    "score, acc = classifier.evaluate(X_train, y_train,\n",
    "                            batch_size=10)\n",
    "print('Train score:', score)\n",
    "print('Train accuracy:', acc)\n",
    "# Part 3 - Making predictions and evaluating the model\n",
    "\n",
    "# Predicting the Test set results\n",
    "y_pred = classifier.predict(X_test)\n",
    "y_pred = (y_pred > 0.5)\n",
    "\n",
    "print('*'*20)\n",
    "score, acc = classifier.evaluate(X_test, y_test,\n",
    "                            batch_size=10)\n",
    "print('Test score:', score)\n",
    "print('Test accuracy:', acc)\n",
    "# Making the Confusion Matrix\n",
    "from sklearn.metrics import confusion_matrix\n",
    "cm = confusion_matrix(y_test, y_pred)"
   ]
  },
  {
   "cell_type": "code",
   "execution_count": 30,
   "id": "94bfaa01",
   "metadata": {},
   "outputs": [
    {
     "data": {
      "text/plain": [
       "Text(0.5, 12.5, 'Predicted label')"
      ]
     },
     "execution_count": 30,
     "metadata": {},
     "output_type": "execute_result"
    },
    {
     "data": {
      "image/png": "[encoded data removed]",
      "text/plain": [
       "<Figure size 432x288 with 2 Axes>"
      ]
     },
     "metadata": {},
     "output_type": "display_data"
    }
   ],
   "source": [
    "p = sns.heatmap(pd.DataFrame(cm), annot=True, cmap=\"YlGnBu\" ,fmt='g')\n",
    "plt.title('Confusion matrix', y=1.1)\n",
    "plt.ylabel('Actual label')\n",
    "plt.xlabel('Predicted label')"
   ]
  },
  {
   "cell_type": "code",
   "execution_count": 31,
   "id": "c43e6107",
   "metadata": {},
   "outputs": [
    {
     "name": "stderr",
     "output_type": "stream",
     "text": [
      "c:\\users\\lolom.desktop-ig3b3er\\appdata\\local\\programs\\python\\python37\\lib\\site-packages\\keras\\optimizer_v2\\rmsprop.py:130: UserWarning: The `lr` argument is deprecated, use `learning_rate` instead.\n",
      "  super(RMSprop, self).__init__(name, **kwargs)\n"
     ]
    },
    {
     "name": "stdout",
     "output_type": "stream",
     "text": [
      "Epoch 1/100\n",
      "700/700 [==============================] - 2s 2ms/step - loss: 19.2989 - accuracy: 0.6370 - val_loss: 0.5050 - val_accuracy: 0.7963\n",
      "Epoch 2/100\n",
      "700/700 [==============================] - 1s 2ms/step - loss: 0.5061 - accuracy: 0.7963 - val_loss: 0.5057 - val_accuracy: 0.7963\n",
      "Epoch 3/100\n",
      "700/700 [==============================] - 1s 2ms/step - loss: 0.5066 - accuracy: 0.7963 - val_loss: 0.5050 - val_accuracy: 0.7963\n",
      "Epoch 4/100\n",
      "700/700 [==============================] - 1s 2ms/step - loss: 0.5059 - accuracy: 0.7963 - val_loss: 0.5056 - val_accuracy: 0.7963\n",
      "Epoch 5/100\n",
      "700/700 [==============================] - 1s 2ms/step - loss: 0.5059 - accuracy: 0.7963 - val_loss: 0.5055 - val_accuracy: 0.7963\n",
      "Epoch 6/100\n",
      "700/700 [==============================] - 1s 2ms/step - loss: 0.5057 - accuracy: 0.7963 - val_loss: 0.5052 - val_accuracy: 0.7963\n",
      "Epoch 7/100\n",
      "700/700 [==============================] - 1s 2ms/step - loss: 0.5059 - accuracy: 0.7963 - val_loss: 0.5053 - val_accuracy: 0.7963\n",
      "Epoch 8/100\n",
      "700/700 [==============================] - 1s 2ms/step - loss: 0.5058 - accuracy: 0.7963 - val_loss: 0.5053 - val_accuracy: 0.7963\n",
      "Epoch 9/100\n",
      "700/700 [==============================] - 1s 2ms/step - loss: 0.5056 - accuracy: 0.7963 - val_loss: 0.5053 - val_accuracy: 0.7963\n",
      "Epoch 10/100\n",
      "700/700 [==============================] - 1s 2ms/step - loss: 0.5057 - accuracy: 0.7963 - val_loss: 0.5051 - val_accuracy: 0.7963\n",
      "Epoch 11/100\n",
      "700/700 [==============================] - 1s 2ms/step - loss: 0.5057 - accuracy: 0.7963 - val_loss: 0.5053 - val_accuracy: 0.7963\n",
      "Epoch 12/100\n",
      "700/700 [==============================] - 1s 2ms/step - loss: 0.5058 - accuracy: 0.7963 - val_loss: 0.5052 - val_accuracy: 0.7963\n",
      "Epoch 13/100\n",
      "700/700 [==============================] - 2s 2ms/step - loss: 0.5059 - accuracy: 0.7963 - val_loss: 0.5058 - val_accuracy: 0.7963\n",
      "Epoch 14/100\n",
      "700/700 [==============================] - 1s 2ms/step - loss: 0.5060 - accuracy: 0.7963 - val_loss: 0.5051 - val_accuracy: 0.7963\n",
      "Epoch 15/100\n",
      "700/700 [==============================] - 1s 2ms/step - loss: 0.5060 - accuracy: 0.7963 - val_loss: 0.5051 - val_accuracy: 0.7963\n",
      "Epoch 16/100\n",
      "700/700 [==============================] - 1s 2ms/step - loss: 0.5059 - accuracy: 0.7963 - val_loss: 0.5053 - val_accuracy: 0.7963\n",
      "Epoch 17/100\n",
      "700/700 [==============================] - 1s 2ms/step - loss: 0.5059 - accuracy: 0.7963 - val_loss: 0.5053 - val_accuracy: 0.7963\n",
      "Epoch 18/100\n",
      "700/700 [==============================] - 1s 2ms/step - loss: 0.5059 - accuracy: 0.7963 - val_loss: 0.5051 - val_accuracy: 0.7963\n",
      "Epoch 19/100\n",
      "700/700 [==============================] - 1s 2ms/step - loss: 0.5058 - accuracy: 0.7963 - val_loss: 0.5051 - val_accuracy: 0.7963\n",
      "Epoch 20/100\n",
      "700/700 [==============================] - 1s 2ms/step - loss: 0.5057 - accuracy: 0.7963 - val_loss: 0.5054 - val_accuracy: 0.7963\n",
      "Epoch 21/100\n",
      "700/700 [==============================] - 1s 2ms/step - loss: 0.5058 - accuracy: 0.7963 - val_loss: 0.5054 - val_accuracy: 0.7963\n",
      "Epoch 22/100\n",
      "700/700 [==============================] - 1s 2ms/step - loss: 0.5058 - accuracy: 0.7963 - val_loss: 0.5051 - val_accuracy: 0.7963\n",
      "Epoch 23/100\n",
      "700/700 [==============================] - 1s 2ms/step - loss: 0.5058 - accuracy: 0.7963 - val_loss: 0.5051 - val_accuracy: 0.7963\n",
      "Epoch 24/100\n",
      "700/700 [==============================] - 1s 2ms/step - loss: 0.5055 - accuracy: 0.7963 - val_loss: 0.5051 - val_accuracy: 0.7963\n",
      "Epoch 25/100\n",
      "700/700 [==============================] - 1s 2ms/step - loss: 0.5059 - accuracy: 0.7963 - val_loss: 0.5055 - val_accuracy: 0.7963\n",
      "Epoch 26/100\n",
      "700/700 [==============================] - 1s 2ms/step - loss: 0.5060 - accuracy: 0.7963 - val_loss: 0.5052 - val_accuracy: 0.7963\n",
      "Epoch 27/100\n",
      "700/700 [==============================] - 1s 2ms/step - loss: 0.5058 - accuracy: 0.7963 - val_loss: 0.5051 - val_accuracy: 0.7963\n",
      "Epoch 28/100\n",
      "700/700 [==============================] - 1s 2ms/step - loss: 0.5058 - accuracy: 0.7963 - val_loss: 0.5058 - val_accuracy: 0.7963\n",
      "Epoch 29/100\n",
      "700/700 [==============================] - 1s 2ms/step - loss: 0.5057 - accuracy: 0.7963 - val_loss: 0.5052 - val_accuracy: 0.7963\n",
      "Epoch 30/100\n",
      "700/700 [==============================] - 1s 2ms/step - loss: 0.5059 - accuracy: 0.7963 - val_loss: 0.5051 - val_accuracy: 0.7963\n",
      "Epoch 31/100\n",
      "700/700 [==============================] - 1s 2ms/step - loss: 0.5058 - accuracy: 0.7963 - val_loss: 0.5052 - val_accuracy: 0.7963\n",
      "Epoch 32/100\n",
      "700/700 [==============================] - 1s 2ms/step - loss: 0.5059 - accuracy: 0.7963 - val_loss: 0.5051 - val_accuracy: 0.7963\n",
      "Epoch 33/100\n",
      "700/700 [==============================] - 1s 2ms/step - loss: 0.5058 - accuracy: 0.7963 - val_loss: 0.5051 - val_accuracy: 0.7963\n",
      "Epoch 34/100\n",
      "700/700 [==============================] - 1s 2ms/step - loss: 0.5057 - accuracy: 0.7963 - val_loss: 0.5051 - val_accuracy: 0.7963\n",
      "Epoch 35/100\n",
      "700/700 [==============================] - 1s 2ms/step - loss: 0.5058 - accuracy: 0.7963 - val_loss: 0.5050 - val_accuracy: 0.7963\n",
      "Epoch 36/100\n",
      "700/700 [==============================] - 1s 2ms/step - loss: 0.5055 - accuracy: 0.7963 - val_loss: 0.5068 - val_accuracy: 0.7963\n",
      "Epoch 37/100\n",
      "700/700 [==============================] - 1s 2ms/step - loss: 0.5059 - accuracy: 0.7963 - val_loss: 0.5050 - val_accuracy: 0.7963\n",
      "Epoch 38/100\n",
      "700/700 [==============================] - 1s 2ms/step - loss: 0.5058 - accuracy: 0.7963 - val_loss: 0.5052 - val_accuracy: 0.7963\n",
      "Epoch 39/100\n",
      "700/700 [==============================] - 1s 2ms/step - loss: 0.5058 - accuracy: 0.7963 - val_loss: 0.5055 - val_accuracy: 0.7963\n",
      "Epoch 40/100\n",
      "700/700 [==============================] - 1s 2ms/step - loss: 0.5060 - accuracy: 0.7963 - val_loss: 0.5050 - val_accuracy: 0.7963\n",
      "Epoch 41/100\n",
      "700/700 [==============================] - 1s 2ms/step - loss: 0.5060 - accuracy: 0.7963 - val_loss: 0.5050 - val_accuracy: 0.7963\n",
      "Epoch 42/100\n",
      "700/700 [==============================] - 1s 2ms/step - loss: 0.5057 - accuracy: 0.7963 - val_loss: 0.5052 - val_accuracy: 0.7963\n",
      "Epoch 43/100\n",
      "700/700 [==============================] - 1s 2ms/step - loss: 0.5059 - accuracy: 0.7963 - val_loss: 0.5050 - val_accuracy: 0.7963\n",
      "Epoch 44/100\n",
      "700/700 [==============================] - 1s 2ms/step - loss: 0.5058 - accuracy: 0.7963 - val_loss: 0.5054 - val_accuracy: 0.7963\n",
      "Epoch 45/100\n",
      "700/700 [==============================] - 1s 2ms/step - loss: 0.5055 - accuracy: 0.7963 - val_loss: 0.5066 - val_accuracy: 0.7963\n",
      "Epoch 46/100\n",
      "700/700 [==============================] - 1s 2ms/step - loss: 0.5057 - accuracy: 0.7963 - val_loss: 0.5050 - val_accuracy: 0.7963\n",
      "Epoch 47/100\n",
      "700/700 [==============================] - 1s 2ms/step - loss: 0.5058 - accuracy: 0.7963 - val_loss: 0.5051 - val_accuracy: 0.7963\n",
      "Epoch 48/100\n",
      "700/700 [==============================] - 1s 2ms/step - loss: 0.5059 - accuracy: 0.7963 - val_loss: 0.5050 - val_accuracy: 0.7963\n",
      "Epoch 49/100\n",
      "700/700 [==============================] - 1s 2ms/step - loss: 0.5056 - accuracy: 0.7963 - val_loss: 0.5054 - val_accuracy: 0.7963\n",
      "Epoch 50/100\n",
      "700/700 [==============================] - 1s 2ms/step - loss: 0.5057 - accuracy: 0.7963 - val_loss: 0.5055 - val_accuracy: 0.7963\n",
      "Epoch 51/100\n",
      "700/700 [==============================] - 1s 2ms/step - loss: 0.5059 - accuracy: 0.7963 - val_loss: 0.5058 - val_accuracy: 0.7963\n",
      "Epoch 52/100\n",
      "700/700 [==============================] - 1s 2ms/step - loss: 0.5058 - accuracy: 0.7963 - val_loss: 0.5062 - val_accuracy: 0.7963\n",
      "Epoch 53/100\n",
      "700/700 [==============================] - 1s 2ms/step - loss: 0.5056 - accuracy: 0.7963 - val_loss: 0.5056 - val_accuracy: 0.7963\n",
      "Epoch 54/100\n",
      "700/700 [==============================] - 1s 2ms/step - loss: 0.5059 - accuracy: 0.7963 - val_loss: 0.5053 - val_accuracy: 0.7963\n",
      "Epoch 55/100\n",
      "700/700 [==============================] - 1s 2ms/step - loss: 0.5058 - accuracy: 0.7963 - val_loss: 0.5050 - val_accuracy: 0.7963\n",
      "Epoch 56/100\n",
      "700/700 [==============================] - 1s 2ms/step - loss: 0.5056 - accuracy: 0.7963 - val_loss: 0.5051 - val_accuracy: 0.7963\n",
      "Epoch 57/100\n",
      "700/700 [==============================] - 1s 2ms/step - loss: 0.5060 - accuracy: 0.7963 - val_loss: 0.5050 - val_accuracy: 0.7963\n",
      "Epoch 58/100\n",
      "700/700 [==============================] - 1s 2ms/step - loss: 0.5056 - accuracy: 0.7963 - val_loss: 0.5056 - val_accuracy: 0.7963\n",
      "Epoch 59/100\n",
      "700/700 [==============================] - 2s 2ms/step - loss: 0.5057 - accuracy: 0.7963 - val_loss: 0.5052 - val_accuracy: 0.7963\n",
      "Epoch 60/100\n",
      "700/700 [==============================] - 1s 2ms/step - loss: 0.5058 - accuracy: 0.7963 - val_loss: 0.5051 - val_accuracy: 0.7963\n",
      "Epoch 61/100\n",
      "700/700 [==============================] - 2s 2ms/step - loss: 0.5057 - accuracy: 0.7963 - val_loss: 0.5051 - val_accuracy: 0.7963\n",
      "Epoch 62/100\n",
      "700/700 [==============================] - 2s 2ms/step - loss: 0.5059 - accuracy: 0.7963 - val_loss: 0.5050 - val_accuracy: 0.7963\n",
      "Epoch 63/100\n",
      "700/700 [==============================] - 2s 2ms/step - loss: 0.5058 - accuracy: 0.7963 - val_loss: 0.5056 - val_accuracy: 0.7963\n",
      "Epoch 64/100\n",
      "700/700 [==============================] - 1s 2ms/step - loss: 0.5058 - accuracy: 0.7963 - val_loss: 0.5054 - val_accuracy: 0.7963\n",
      "Epoch 65/100\n",
      "700/700 [==============================] - 1s 2ms/step - loss: 0.5059 - accuracy: 0.7963 - val_loss: 0.5051 - val_accuracy: 0.7963\n",
      "Epoch 66/100\n",
      "700/700 [==============================] - 1s 2ms/step - loss: 0.5057 - accuracy: 0.7963 - val_loss: 0.5058 - val_accuracy: 0.7963\n",
      "Epoch 67/100\n",
      "700/700 [==============================] - 1s 2ms/step - loss: 0.5058 - accuracy: 0.7963 - val_loss: 0.5050 - val_accuracy: 0.7963\n",
      "Epoch 68/100\n",
      "700/700 [==============================] - 1s 2ms/step - loss: 0.5059 - accuracy: 0.7963 - val_loss: 0.5052 - val_accuracy: 0.7963\n",
      "Epoch 69/100\n",
      "700/700 [==============================] - 1s 2ms/step - loss: 0.5060 - accuracy: 0.7963 - val_loss: 0.5050 - val_accuracy: 0.7963\n",
      "Epoch 70/100\n",
      "700/700 [==============================] - 1s 2ms/step - loss: 0.5059 - accuracy: 0.7963 - val_loss: 0.5052 - val_accuracy: 0.7963\n",
      "Epoch 71/100\n",
      "700/700 [==============================] - 1s 2ms/step - loss: 0.5060 - accuracy: 0.7963 - val_loss: 0.5051 - val_accuracy: 0.7963\n",
      "Epoch 72/100\n",
      "700/700 [==============================] - 1s 2ms/step - loss: 0.5059 - accuracy: 0.7963 - val_loss: 0.5050 - val_accuracy: 0.7963\n",
      "Epoch 73/100\n",
      "700/700 [==============================] - 1s 2ms/step - loss: 0.5058 - accuracy: 0.7963 - val_loss: 0.5051 - val_accuracy: 0.7963\n",
      "Epoch 74/100\n",
      "700/700 [==============================] - 1s 2ms/step - loss: 0.5059 - accuracy: 0.7963 - val_loss: 0.5051 - val_accuracy: 0.7963\n",
      "Epoch 75/100\n",
      "700/700 [==============================] - 1s 2ms/step - loss: 0.5057 - accuracy: 0.7963 - val_loss: 0.5050 - val_accuracy: 0.7963\n",
      "Epoch 76/100\n",
      "700/700 [==============================] - 1s 2ms/step - loss: 0.5058 - accuracy: 0.7963 - val_loss: 0.5051 - val_accuracy: 0.7963\n",
      "Epoch 77/100\n",
      "700/700 [==============================] - 1s 2ms/step - loss: 0.5058 - accuracy: 0.7963 - val_loss: 0.5054 - val_accuracy: 0.7963\n",
      "Epoch 78/100\n",
      "700/700 [==============================] - 1s 2ms/step - loss: 0.5059 - accuracy: 0.7963 - val_loss: 0.5050 - val_accuracy: 0.7963\n",
      "Epoch 79/100\n",
      "700/700 [==============================] - 1s 2ms/step - loss: 0.5058 - accuracy: 0.7963 - val_loss: 0.5050 - val_accuracy: 0.7963\n",
      "Epoch 80/100\n",
      "700/700 [==============================] - 1s 2ms/step - loss: 0.5058 - accuracy: 0.7963 - val_loss: 0.5050 - val_accuracy: 0.7963\n",
      "Epoch 81/100\n",
      "700/700 [==============================] - 1s 2ms/step - loss: 0.5059 - accuracy: 0.7963 - val_loss: 0.5050 - val_accuracy: 0.7963\n",
      "Epoch 82/100\n",
      "700/700 [==============================] - 1s 2ms/step - loss: 0.5058 - accuracy: 0.7963 - val_loss: 0.5051 - val_accuracy: 0.7963\n",
      "Epoch 83/100\n",
      "700/700 [==============================] - 1s 2ms/step - loss: 0.5058 - accuracy: 0.7963 - val_loss: 0.5054 - val_accuracy: 0.7963\n",
      "Epoch 84/100\n",
      "700/700 [==============================] - 1s 2ms/step - loss: 0.5059 - accuracy: 0.7963 - val_loss: 0.5052 - val_accuracy: 0.7963\n",
      "Epoch 85/100\n",
      "700/700 [==============================] - 1s 2ms/step - loss: 0.5057 - accuracy: 0.7963 - val_loss: 0.5053 - val_accuracy: 0.7963\n",
      "Epoch 86/100\n",
      "700/700 [==============================] - 2s 2ms/step - loss: 0.5053 - accuracy: 0.7963 - val_loss: 0.5051 - val_accuracy: 0.7963\n",
      "Epoch 87/100\n",
      "700/700 [==============================] - 2s 2ms/step - loss: 0.5059 - accuracy: 0.7963 - val_loss: 0.5050 - val_accuracy: 0.7963\n",
      "Epoch 88/100\n",
      "700/700 [==============================] - 1s 2ms/step - loss: 0.5053 - accuracy: 0.7963 - val_loss: 0.5050 - val_accuracy: 0.7963\n",
      "Epoch 89/100\n",
      "700/700 [==============================] - 1s 2ms/step - loss: 0.5059 - accuracy: 0.7963 - val_loss: 0.5050 - val_accuracy: 0.7963\n",
      "Epoch 90/100\n",
      "700/700 [==============================] - 1s 2ms/step - loss: 0.5058 - accuracy: 0.7963 - val_loss: 0.5051 - val_accuracy: 0.7963\n",
      "Epoch 91/100\n",
      "700/700 [==============================] - 1s 2ms/step - loss: 0.5058 - accuracy: 0.7963 - val_loss: 0.5057 - val_accuracy: 0.7963\n",
      "Epoch 92/100\n",
      "700/700 [==============================] - 1s 2ms/step - loss: 0.5060 - accuracy: 0.7963 - val_loss: 0.5052 - val_accuracy: 0.7963\n",
      "Epoch 93/100\n",
      "700/700 [==============================] - 1s 2ms/step - loss: 0.5058 - accuracy: 0.7963 - val_loss: 0.5050 - val_accuracy: 0.7963\n",
      "Epoch 94/100\n",
      "700/700 [==============================] - 1s 2ms/step - loss: 0.5057 - accuracy: 0.7963 - val_loss: 0.5052 - val_accuracy: 0.7963\n",
      "Epoch 95/100\n",
      "700/700 [==============================] - 1s 2ms/step - loss: 0.5058 - accuracy: 0.7963 - val_loss: 0.5052 - val_accuracy: 0.7963\n",
      "Epoch 96/100\n",
      "700/700 [==============================] - 1s 2ms/step - loss: 0.5058 - accuracy: 0.7963 - val_loss: 0.5052 - val_accuracy: 0.7963\n",
      "Epoch 97/100\n",
      "700/700 [==============================] - 1s 2ms/step - loss: 0.5058 - accuracy: 0.7963 - val_loss: 0.5051 - val_accuracy: 0.7963\n",
      "Epoch 98/100\n",
      "700/700 [==============================] - 1s 2ms/step - loss: 0.5058 - accuracy: 0.7963 - val_loss: 0.5050 - val_accuracy: 0.7963\n",
      "Epoch 99/100\n",
      "700/700 [==============================] - 1s 2ms/step - loss: 0.5058 - accuracy: 0.7963 - val_loss: 0.5055 - val_accuracy: 0.7963\n",
      "Epoch 100/100\n",
      "700/700 [==============================] - 1s 2ms/step - loss: 0.5058 - accuracy: 0.7963 - val_loss: 0.5053 - val_accuracy: 0.7963\n"
     ]
    }
   ],
   "source": [
    "classifier.compile(optimizer=optimizers.RMSprop(lr=0.01),\n",
    "                loss='binary_crossentropy',\n",
    "                metrics=['accuracy'])\n",
    "#\n",
    "# Create training and test split\n",
    "#\n",
    "X_train, X_test, y_train, y_test = train_test_split(X, y, test_size=0.3, stratify=y, random_state=42)\n",
    "#\n",
    "# Fit the network\n",
    "#\n",
    "history = classifier.fit(X_train, y_train,\n",
    "                    validation_data=(X_test, y_test),\n",
    "                    epochs=100,\n",
    "                    batch_size=10)"
   ]
  },
  {
   "cell_type": "code",
   "execution_count": 32,
   "id": "8db5c7ac",
   "metadata": {},
   "outputs": [
    {
     "data": {
      "text/plain": [
       "<matplotlib.legend.Legend at 0x1ab4ff39198>"
      ]
     },
     "execution_count": 32,
     "metadata": {},
     "output_type": "execute_result"
    },
    {
     "data": {
      "image/png": "[encoded data removed]",
      "text/plain": [
       "<Figure size 1008x432 with 2 Axes>"
      ]
     },
     "metadata": {},
     "output_type": "display_data"
    }
   ],
   "source": [
    "\n",
    "history_dict = history.history\n",
    "loss_values = history_dict['loss']\n",
    "val_loss_values = history_dict['val_loss']\n",
    "accuracy = history_dict['accuracy']\n",
    "val_accuracy = history_dict['val_accuracy']\n",
    " \n",
    "epochs = range(1, len(loss_values) + 1)\n",
    "fig, ax = plt.subplots(1, 2, figsize=(14, 6))\n",
    "#\n",
    "# Plot the model accuracy vs Epochs\n",
    "#\n",
    "ax[0].plot(epochs, accuracy, 'bo', label='Training accuracy')\n",
    "ax[0].plot(epochs, val_accuracy, 'b', label='Validation accuracy')\n",
    "ax[0].set_title('Training & Validation Accuracy', fontsize=16)\n",
    "ax[0].set_xlabel('Epochs', fontsize=16)\n",
    "ax[0].set_ylabel('Accuracy', fontsize=16)\n",
    "ax[0].legend()\n",
    "#\n",
    "# Plot the loss vs Epochs\n",
    "#\n",
    "ax[1].plot(epochs, loss_values, 'bo', label='Training loss')\n",
    "ax[1].plot(epochs, val_loss_values, 'b', label='Validation loss')\n",
    "ax[1].set_title('Training & Validation Loss', fontsize=16)\n",
    "ax[1].set_xlabel('Epochs', fontsize=16)\n",
    "ax[1].set_ylabel('Loss', fontsize=16)\n",
    "ax[1].legend()"
   ]
  },
  {
   "cell_type": "code",
   "execution_count": 36,
   "id": "c03dfb26",
   "metadata": {},
   "outputs": [
    {
     "data": {
      "text/plain": [
       "RandomForestClassifier(max_features=5, n_estimators=500)"
      ]
     },
     "execution_count": 36,
     "metadata": {},
     "output_type": "execute_result"
    }
   ],
   "source": [
    "from sklearn.ensemble import RandomForestClassifier\n",
    "from sklearn.naive_bayes import GaussianNB\n",
    "rf = RandomForestClassifier(max_features=5, n_estimators=500)\n",
    "rf.fit(X_train, y_train)"
   ]
  },
  {
   "cell_type": "code",
   "execution_count": 38,
   "id": "2d67a8ec",
   "metadata": {},
   "outputs": [
    {
     "data": {
      "text/plain": [
       "GaussianNB()"
      ]
     },
     "execution_count": 38,
     "metadata": {},
     "output_type": "execute_result"
    }
   ],
   "source": [
    "nb = GaussianNB()\n",
    "nb.fit(X_train, y_train)"
   ]
  },
  {
   "cell_type": "code",
   "execution_count": 40,
   "id": "d1764e41",
   "metadata": {},
   "outputs": [],
   "source": [
    "r_probs = [0 for _ in range(len(y_test))]\n",
    "rf_probs = rf.predict_proba(X_test)\n",
    "nb_probs = nb.predict_proba(X_test)"
   ]
  },
  {
   "cell_type": "code",
   "execution_count": 41,
   "id": "64a3fcf7",
   "metadata": {},
   "outputs": [],
   "source": [
    "rf_probs = rf_probs[:, 1]\n",
    "nb_probs = nb_probs[:, 1]"
   ]
  },
  {
   "cell_type": "code",
   "execution_count": 43,
   "id": "876d5c5e",
   "metadata": {},
   "outputs": [],
   "source": [
    "from sklearn.metrics import roc_curve, roc_auc_score\n",
    "r_auc = roc_auc_score(y_test, r_probs)\n",
    "rf_auc = roc_auc_score(y_test, rf_probs)\n",
    "nb_auc = roc_auc_score(y_test, nb_probs)"
   ]
  },
  {
   "cell_type": "code",
   "execution_count": 44,
   "id": "7f1744f9",
   "metadata": {},
   "outputs": [
    {
     "name": "stdout",
     "output_type": "stream",
     "text": [
      "Random (chance) Prediction: AUROC = 0.500\n",
      "Random Forest: AUROC = 0.865\n",
      "Naive Bayes: AUROC = 0.769\n"
     ]
    }
   ],
   "source": [
    "print('Random (chance) Prediction: AUROC = %.3f' % (r_auc))\n",
    "print('Random Forest: AUROC = %.3f' % (rf_auc))\n",
    "print('Naive Bayes: AUROC = %.3f' % (nb_auc))"
   ]
  },
  {
   "cell_type": "code",
   "execution_count": 46,
   "id": "f6a0494c",
   "metadata": {},
   "outputs": [],
   "source": [
    "r_fpr, r_tpr, _ = roc_curve(y_test, r_probs)\n",
    "rf_fpr, rf_tpr, _ = roc_curve(y_test, rf_probs)\n",
    "nb_fpr, nb_tpr, _ = roc_curve(y_test, nb_probs)"
   ]
  },
  {
   "cell_type": "code",
   "execution_count": 47,
   "id": "862b8e09",
   "metadata": {},
   "outputs": [
    {
     "data": {
      "image/png": "[encoded data removed]",
      "text/plain": [
       "<Figure size 432x288 with 1 Axes>"
      ]
     },
     "metadata": {},
     "output_type": "display_data"
    }
   ],
   "source": [
    "import matplotlib.pyplot as plt\n",
    "plt.plot(r_fpr, r_tpr, linestyle='--', label='Random prediction (AUROC = %0.3f)' % r_auc)\n",
    "plt.plot(rf_fpr, rf_tpr, marker='.', label='Random Forest (AUROC = %0.3f)' % rf_auc)\n",
    "plt.plot(nb_fpr, nb_tpr, marker='.', label='Naive Bayes (AUROC = %0.3f)' % nb_auc)\n",
    "\n",
    "# Title\n",
    "plt.title('ROC Plot')\n",
    "# Axis labels\n",
    "plt.xlabel('False Positive Rate')\n",
    "plt.ylabel('True Positive Rate')\n",
    "# Show legend\n",
    "plt.legend() # \n",
    "# Show plot\n",
    "plt.show()"
   ]
  },
  {
   "cell_type": "code",
   "execution_count": 58,
   "id": "508987e0",
   "metadata": {},
   "outputs": [
    {
     "name": "stdout",
     "output_type": "stream",
     "text": [
      "accuracy is 0.8384848484848484%\n"
     ]
    }
   ],
   "source": [
    "print(\"accuracy is {}%\".format((((cm[0][0] + cm[1][1])/33)/100)))"
   ]
  }
 ],
 "metadata": {
  "kernelspec": {
   "display_name": "Python 3 (ipykernel)",
   "language": "python",
   "name": "python3"
  },
  "language_info": {
   "codemirror_mode": {
    "name": "ipython",
    "version": 3
   },
   "file_extension": ".py",
   "mimetype": "text/x-python",
   "name": "python",
   "nbconvert_exporter": "python",
   "pygments_lexer": "ipython3",
   "version": "3.7.0"
  }
 },
 "nbformat": 4,
 "nbformat_minor": 5
}
