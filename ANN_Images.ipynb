{
  "cells": [
    {
      "cell_type": "code",
      "execution_count": 2,
      "id": "92a81eb2",
      "metadata": {
        "id": "92a81eb2"
      },
      "outputs": [],
      "source": [
        "import pandas as pd\n",
        "import numpy as np\n",
        "import matplotlib.pyplot as plt\n",
        "import seaborn as sns\n",
        "import os\n",
        "import csv\n",
        "import cv2\n",
        "import tensorflow as tf\n",
        "import numpy as np\n",
        "import matplotlib.pyplot as plt\n",
        "from tensorflow.python.framework import ops\n",
        "from skimage.transform import resize\n",
        "from skimage.color import rgb2gray\n"
      ]
    },
    {
      "cell_type": "code",
      "execution_count": 3,
      "id": "3da95f26",
      "metadata": {
        "colab": {
          "base_uri": "https://localhost:8080/"
        },
        "id": "3da95f26",
        "outputId": "0e2578cd-a8af-4eb2-82fc-47635523b1df"
      },
      "outputs": [
        {
          "output_type": "stream",
          "name": "stderr",
          "text": [
            "/usr/local/lib/python3.7/dist-packages/numpy/core/_asarray.py:83: VisibleDeprecationWarning: Creating an ndarray from ragged nested sequences (which is a list-or-tuple of lists-or-tuples-or ndarrays with different lengths or shapes) is deprecated. If you meant to do this, you must specify 'dtype=object' when creating the ndarray\n",
            "  return array(a, dtype, copy=False, order=order)\n"
          ]
        }
      ],
      "source": [
        "csvtrain = '/content/drive/MyDrive/Hopa/Training'\n",
        "\n",
        "targettrain = []\n",
        "imagestrain = []\n",
        "for dir, sub, files in os.walk(csvtrain,topdown=True):\n",
        "    \n",
        "    for file in files:\n",
        "        if file.endswith(\".csv\"):\n",
        "            file_path = os.path.join(dir,file)\n",
        "            csv_file = open(file_path,'r')\n",
        "            csv_data = csv.reader(csv_file,delimiter=';')\n",
        "            next(csv_data)\n",
        "            for line in csv_data:\n",
        "                img_path = os.path.join(dir,line[0])\n",
        "                imagestrain.append(cv2.imread(img_path))\n",
        "                plt.show()\n",
        "                targettrain.append(line[7])\n",
        "            csv_file.close()\n",
        "xtrain = np.array(imagestrain)\n",
        "ytrain = np.array(targettrain)\n",
        "#--------------------Test-------------------------\n",
        "csvtest = '/content/drive/MyDrive/Hopa/Testing'\n",
        "targettest = []\n",
        "imagestest = []\n",
        "for dir, sub, files in os.walk(csvtest,topdown=True):\n",
        "    \n",
        "    for file in files:\n",
        "        if file.endswith(\".csv\"):\n",
        "            file_path = os.path.join(dir,file)\n",
        "            csv_file = open(file_path,'r')\n",
        "            csv_data = csv.reader(csv_file,delimiter=';')\n",
        "            next(csv_data)\n",
        "            for line in csv_data:\n",
        "                img_path = os.path.join(dir,line[0])\n",
        "                imagestest.append(cv2.imread(img_path))\n",
        "                targettest.append(line[7])\n",
        "            csv_file.close()\n",
        "xtest = np.asarray(imagestest)\n",
        "ytest = np.asarray(targettest)\n",
        "y_test = ytest"
      ]
    },
    {
      "cell_type": "code",
      "execution_count": 4,
      "id": "f2af0c8d",
      "metadata": {
        "id": "f2af0c8d"
      },
      "outputs": [],
      "source": [
        "resizedimages = []\n",
        "for image in xtest:\n",
        "    re = resize(image, (30, 30))\n",
        "    gray = rgb2gray(re)\n",
        "    resizedimages.append(gray)\n",
        "xtest = np.asarray(resizedimages)"
      ]
    },
    {
      "cell_type": "code",
      "execution_count": 5,
      "id": "fe4858fb",
      "metadata": {
        "id": "fe4858fb"
      },
      "outputs": [],
      "source": [
        "resizedimages = []\n",
        "for image in xtrain:\n",
        "    re = resize(image, (30, 30))\n",
        "    gray = rgb2gray(re)\n",
        "    resizedimages.append(gray)\n",
        "xtrain = np.asarray(resizedimages)"
      ]
    },
    {
      "cell_type": "code",
      "execution_count": 6,
      "id": "a885b70c",
      "metadata": {
        "id": "a885b70c"
      },
      "outputs": [],
      "source": [
        "from sklearn.preprocessing import LabelEncoder\n",
        "labelencoder_X_1 = LabelEncoder()\n",
        "ytrain = labelencoder_X_1.fit_transform(ytrain)"
      ]
    },
    {
      "cell_type": "code",
      "execution_count": 7,
      "id": "24a4eecd",
      "metadata": {
        "colab": {
          "base_uri": "https://localhost:8080/"
        },
        "id": "24a4eecd",
        "outputId": "0da69e38-a4f8-4b60-81dd-518af95b0196"
      },
      "outputs": [
        {
          "output_type": "execute_result",
          "data": {
            "text/plain": [
              "(125, 30, 30)"
            ]
          },
          "metadata": {},
          "execution_count": 7
        }
      ],
      "source": [
        "xtrain.shape"
      ]
    },
    {
      "cell_type": "code",
      "execution_count": 8,
      "id": "a37d16cb",
      "metadata": {
        "colab": {
          "base_uri": "https://localhost:8080/"
        },
        "id": "a37d16cb",
        "outputId": "9dbe72a4-50ba-4ff0-e55c-8e185e18049f"
      },
      "outputs": [
        {
          "output_type": "execute_result",
          "data": {
            "text/plain": [
              "(125, 30)"
            ]
          },
          "metadata": {},
          "execution_count": 8
        }
      ],
      "source": [
        "xtr2 = xtrain[:,:,0]\n",
        "xtr2.shape\n"
      ]
    },
    {
      "cell_type": "code",
      "execution_count": 9,
      "id": "1eaccb75",
      "metadata": {
        "id": "1eaccb75"
      },
      "outputs": [],
      "source": [
        "from sklearn.preprocessing import StandardScaler\n",
        "sc = StandardScaler()\n",
        "X_train = sc.fit_transform(xtrain[:,:,0])\n",
        "X_test = sc.transform(xtest[:,:,0])"
      ]
    },
    {
      "cell_type": "code",
      "execution_count": 10,
      "id": "0f158782",
      "metadata": {
        "id": "0f158782"
      },
      "outputs": [],
      "source": [
        "import keras\n",
        "from keras.models import Sequential\n",
        "from keras.layers import Dense, Dropout"
      ]
    },
    {
      "cell_type": "code",
      "execution_count": 11,
      "id": "be0c5dc8",
      "metadata": {
        "id": "be0c5dc8"
      },
      "outputs": [],
      "source": [
        "classifier = Sequential()"
      ]
    },
    {
      "cell_type": "code",
      "execution_count": 13,
      "id": "7ac1f299",
      "metadata": {
        "id": "7ac1f299"
      },
      "outputs": [],
      "source": [
        "classifier.add(Dense(units=16, kernel_initializer='uniform', activation='selu', input_dim=30))\n",
        "classifier.add(Dropout(rate=0.1))\n",
        "classifier.add(Dense(units=16, kernel_initializer='uniform', activation='selu'))\n",
        "classifier.add(Dropout(rate=0.1))"
      ]
    },
    {
      "cell_type": "code",
      "execution_count": 15,
      "id": "90ec1616",
      "metadata": {
        "id": "90ec1616"
      },
      "outputs": [],
      "source": [
        "classifier.add(Dense(units=1, kernel_initializer='uniform', activation='sigmoid'))"
      ]
    },
    {
      "cell_type": "code",
      "execution_count": 16,
      "id": "6a4cd964",
      "metadata": {
        "id": "6a4cd964"
      },
      "outputs": [],
      "source": [
        "classifier.compile(optimizer='adam', loss='binary_crossentropy', metrics=['accuracy'])"
      ]
    },
    {
      "cell_type": "code",
      "execution_count": 17,
      "id": "c7b44232",
      "metadata": {
        "colab": {
          "base_uri": "https://localhost:8080/"
        },
        "id": "c7b44232",
        "outputId": "90ce6eb3-4b01-48bb-990c-204f3c9caa40"
      },
      "outputs": [
        {
          "output_type": "stream",
          "name": "stdout",
          "text": [
            "Epoch 1/150\n",
            "2/2 [==============================] - 1s 7ms/step - loss: 0.6934 - accuracy: 0.5360\n",
            "Epoch 2/150\n",
            "2/2 [==============================] - 0s 6ms/step - loss: 0.6915 - accuracy: 0.8800\n",
            "Epoch 3/150\n",
            "2/2 [==============================] - 0s 5ms/step - loss: 0.6897 - accuracy: 0.8800\n",
            "Epoch 4/150\n",
            "2/2 [==============================] - 0s 6ms/step - loss: 0.6881 - accuracy: 0.8800\n",
            "Epoch 5/150\n",
            "2/2 [==============================] - 0s 5ms/step - loss: 0.6863 - accuracy: 0.8800\n",
            "Epoch 6/150\n",
            "2/2 [==============================] - 0s 4ms/step - loss: 0.6843 - accuracy: 0.8800\n",
            "Epoch 7/150\n",
            "2/2 [==============================] - 0s 4ms/step - loss: 0.6823 - accuracy: 0.8800\n",
            "Epoch 8/150\n",
            "2/2 [==============================] - 0s 8ms/step - loss: 0.6798 - accuracy: 0.8800\n",
            "Epoch 9/150\n",
            "2/2 [==============================] - 0s 4ms/step - loss: 0.6780 - accuracy: 0.8560\n",
            "Epoch 10/150\n",
            "2/2 [==============================] - 0s 4ms/step - loss: 0.6749 - accuracy: 0.8560\n",
            "Epoch 11/150\n",
            "2/2 [==============================] - 0s 4ms/step - loss: 0.6722 - accuracy: 0.8560\n",
            "Epoch 12/150\n",
            "2/2 [==============================] - 0s 9ms/step - loss: 0.6696 - accuracy: 0.8400\n",
            "Epoch 13/150\n",
            "2/2 [==============================] - 0s 6ms/step - loss: 0.6655 - accuracy: 0.8400\n",
            "Epoch 14/150\n",
            "2/2 [==============================] - 0s 6ms/step - loss: 0.6625 - accuracy: 0.8160\n",
            "Epoch 15/150\n",
            "2/2 [==============================] - 0s 6ms/step - loss: 0.6591 - accuracy: 0.8320\n",
            "Epoch 16/150\n",
            "2/2 [==============================] - 0s 6ms/step - loss: 0.6542 - accuracy: 0.8000\n",
            "Epoch 17/150\n",
            "2/2 [==============================] - 0s 5ms/step - loss: 0.6487 - accuracy: 0.8480\n",
            "Epoch 18/150\n",
            "2/2 [==============================] - 0s 3ms/step - loss: 0.6457 - accuracy: 0.7920\n",
            "Epoch 19/150\n",
            "2/2 [==============================] - 0s 4ms/step - loss: 0.6399 - accuracy: 0.8480\n",
            "Epoch 20/150\n",
            "2/2 [==============================] - 0s 5ms/step - loss: 0.6340 - accuracy: 0.8560\n",
            "Epoch 21/150\n",
            "2/2 [==============================] - 0s 4ms/step - loss: 0.6313 - accuracy: 0.8640\n",
            "Epoch 22/150\n",
            "2/2 [==============================] - 0s 5ms/step - loss: 0.6222 - accuracy: 0.8880\n",
            "Epoch 23/150\n",
            "2/2 [==============================] - 0s 11ms/step - loss: 0.6170 - accuracy: 0.8800\n",
            "Epoch 24/150\n",
            "2/2 [==============================] - 0s 8ms/step - loss: 0.6070 - accuracy: 0.8800\n",
            "Epoch 25/150\n",
            "2/2 [==============================] - 0s 6ms/step - loss: 0.6019 - accuracy: 0.8720\n",
            "Epoch 26/150\n",
            "2/2 [==============================] - 0s 7ms/step - loss: 0.5978 - accuracy: 0.8720\n",
            "Epoch 27/150\n",
            "2/2 [==============================] - 0s 4ms/step - loss: 0.5871 - accuracy: 0.8800\n",
            "Epoch 28/150\n",
            "2/2 [==============================] - 0s 5ms/step - loss: 0.5757 - accuracy: 0.8800\n",
            "Epoch 29/150\n",
            "2/2 [==============================] - 0s 8ms/step - loss: 0.5727 - accuracy: 0.8800\n",
            "Epoch 30/150\n",
            "2/2 [==============================] - 0s 6ms/step - loss: 0.5604 - accuracy: 0.8800\n",
            "Epoch 31/150\n",
            "2/2 [==============================] - 0s 5ms/step - loss: 0.5495 - accuracy: 0.8800\n",
            "Epoch 32/150\n",
            "2/2 [==============================] - 0s 6ms/step - loss: 0.5392 - accuracy: 0.8720\n",
            "Epoch 33/150\n",
            "2/2 [==============================] - 0s 6ms/step - loss: 0.5288 - accuracy: 0.8720\n",
            "Epoch 34/150\n",
            "2/2 [==============================] - 0s 6ms/step - loss: 0.5206 - accuracy: 0.8720\n",
            "Epoch 35/150\n",
            "2/2 [==============================] - 0s 3ms/step - loss: 0.5058 - accuracy: 0.8720\n",
            "Epoch 36/150\n",
            "2/2 [==============================] - 0s 6ms/step - loss: 0.4937 - accuracy: 0.8880\n",
            "Epoch 37/150\n",
            "2/2 [==============================] - 0s 3ms/step - loss: 0.4782 - accuracy: 0.8800\n",
            "Epoch 38/150\n",
            "2/2 [==============================] - 0s 3ms/step - loss: 0.4756 - accuracy: 0.8800\n",
            "Epoch 39/150\n",
            "2/2 [==============================] - 0s 5ms/step - loss: 0.4592 - accuracy: 0.8800\n",
            "Epoch 40/150\n",
            "2/2 [==============================] - 0s 5ms/step - loss: 0.4446 - accuracy: 0.8880\n",
            "Epoch 41/150\n",
            "2/2 [==============================] - 0s 5ms/step - loss: 0.4368 - accuracy: 0.8800\n",
            "Epoch 42/150\n",
            "2/2 [==============================] - 0s 4ms/step - loss: 0.4264 - accuracy: 0.8800\n",
            "Epoch 43/150\n",
            "2/2 [==============================] - 0s 5ms/step - loss: 0.4086 - accuracy: 0.8880\n",
            "Epoch 44/150\n",
            "2/2 [==============================] - 0s 8ms/step - loss: 0.4061 - accuracy: 0.8880\n",
            "Epoch 45/150\n",
            "2/2 [==============================] - 0s 6ms/step - loss: 0.3918 - accuracy: 0.8960\n",
            "Epoch 46/150\n",
            "2/2 [==============================] - 0s 4ms/step - loss: 0.3813 - accuracy: 0.8800\n",
            "Epoch 47/150\n",
            "2/2 [==============================] - 0s 4ms/step - loss: 0.3743 - accuracy: 0.8880\n",
            "Epoch 48/150\n",
            "2/2 [==============================] - 0s 4ms/step - loss: 0.3665 - accuracy: 0.8960\n",
            "Epoch 49/150\n",
            "2/2 [==============================] - 0s 4ms/step - loss: 0.3451 - accuracy: 0.8960\n",
            "Epoch 50/150\n",
            "2/2 [==============================] - 0s 4ms/step - loss: 0.3476 - accuracy: 0.8880\n",
            "Epoch 51/150\n",
            "2/2 [==============================] - 0s 4ms/step - loss: 0.3391 - accuracy: 0.8960\n",
            "Epoch 52/150\n",
            "2/2 [==============================] - 0s 3ms/step - loss: 0.3272 - accuracy: 0.8880\n",
            "Epoch 53/150\n",
            "2/2 [==============================] - 0s 4ms/step - loss: 0.3170 - accuracy: 0.9040\n",
            "Epoch 54/150\n",
            "2/2 [==============================] - 0s 4ms/step - loss: 0.3187 - accuracy: 0.8960\n",
            "Epoch 55/150\n",
            "2/2 [==============================] - 0s 7ms/step - loss: 0.3131 - accuracy: 0.8960\n",
            "Epoch 56/150\n",
            "2/2 [==============================] - 0s 5ms/step - loss: 0.3046 - accuracy: 0.8880\n",
            "Epoch 57/150\n",
            "2/2 [==============================] - 0s 3ms/step - loss: 0.3051 - accuracy: 0.9040\n",
            "Epoch 58/150\n",
            "2/2 [==============================] - 0s 4ms/step - loss: 0.2967 - accuracy: 0.9040\n",
            "Epoch 59/150\n",
            "2/2 [==============================] - 0s 4ms/step - loss: 0.2957 - accuracy: 0.8960\n",
            "Epoch 60/150\n",
            "2/2 [==============================] - 0s 5ms/step - loss: 0.2924 - accuracy: 0.8960\n",
            "Epoch 61/150\n",
            "2/2 [==============================] - 0s 5ms/step - loss: 0.2838 - accuracy: 0.9040\n",
            "Epoch 62/150\n",
            "2/2 [==============================] - 0s 4ms/step - loss: 0.2871 - accuracy: 0.8960\n",
            "Epoch 63/150\n",
            "2/2 [==============================] - 0s 3ms/step - loss: 0.2822 - accuracy: 0.8960\n",
            "Epoch 64/150\n",
            "2/2 [==============================] - 0s 4ms/step - loss: 0.2783 - accuracy: 0.8960\n",
            "Epoch 65/150\n",
            "2/2 [==============================] - 0s 4ms/step - loss: 0.2725 - accuracy: 0.8960\n",
            "Epoch 66/150\n",
            "2/2 [==============================] - 0s 3ms/step - loss: 0.2760 - accuracy: 0.8960\n",
            "Epoch 67/150\n",
            "2/2 [==============================] - 0s 3ms/step - loss: 0.2701 - accuracy: 0.8960\n",
            "Epoch 68/150\n",
            "2/2 [==============================] - 0s 6ms/step - loss: 0.2702 - accuracy: 0.9040\n",
            "Epoch 69/150\n",
            "2/2 [==============================] - 0s 4ms/step - loss: 0.2791 - accuracy: 0.8960\n",
            "Epoch 70/150\n",
            "2/2 [==============================] - 0s 4ms/step - loss: 0.2847 - accuracy: 0.8880\n",
            "Epoch 71/150\n",
            "2/2 [==============================] - 0s 5ms/step - loss: 0.2628 - accuracy: 0.8880\n",
            "Epoch 72/150\n",
            "2/2 [==============================] - 0s 6ms/step - loss: 0.2744 - accuracy: 0.8960\n",
            "Epoch 73/150\n",
            "2/2 [==============================] - 0s 6ms/step - loss: 0.2530 - accuracy: 0.8960\n",
            "Epoch 74/150\n",
            "2/2 [==============================] - 0s 4ms/step - loss: 0.2728 - accuracy: 0.8960\n",
            "Epoch 75/150\n",
            "2/2 [==============================] - 0s 4ms/step - loss: 0.2406 - accuracy: 0.8960\n",
            "Epoch 76/150\n",
            "2/2 [==============================] - 0s 4ms/step - loss: 0.2581 - accuracy: 0.8880\n",
            "Epoch 77/150\n",
            "2/2 [==============================] - 0s 5ms/step - loss: 0.2539 - accuracy: 0.9120\n",
            "Epoch 78/150\n",
            "2/2 [==============================] - 0s 4ms/step - loss: 0.2505 - accuracy: 0.8960\n",
            "Epoch 79/150\n",
            "2/2 [==============================] - 0s 4ms/step - loss: 0.2665 - accuracy: 0.8880\n",
            "Epoch 80/150\n",
            "2/2 [==============================] - 0s 5ms/step - loss: 0.2600 - accuracy: 0.8960\n",
            "Epoch 81/150\n",
            "2/2 [==============================] - 0s 4ms/step - loss: 0.2478 - accuracy: 0.8960\n",
            "Epoch 82/150\n",
            "2/2 [==============================] - 0s 3ms/step - loss: 0.2633 - accuracy: 0.8720\n",
            "Epoch 83/150\n",
            "2/2 [==============================] - 0s 6ms/step - loss: 0.2502 - accuracy: 0.8960\n",
            "Epoch 84/150\n",
            "2/2 [==============================] - 0s 4ms/step - loss: 0.2639 - accuracy: 0.8800\n",
            "Epoch 85/150\n",
            "2/2 [==============================] - 0s 5ms/step - loss: 0.2483 - accuracy: 0.9120\n",
            "Epoch 86/150\n",
            "2/2 [==============================] - 0s 5ms/step - loss: 0.2597 - accuracy: 0.8880\n",
            "Epoch 87/150\n",
            "2/2 [==============================] - 0s 4ms/step - loss: 0.2615 - accuracy: 0.8960\n",
            "Epoch 88/150\n",
            "2/2 [==============================] - 0s 5ms/step - loss: 0.2515 - accuracy: 0.8960\n",
            "Epoch 89/150\n",
            "2/2 [==============================] - 0s 4ms/step - loss: 0.2533 - accuracy: 0.8960\n",
            "Epoch 90/150\n",
            "2/2 [==============================] - 0s 4ms/step - loss: 0.2513 - accuracy: 0.8880\n",
            "Epoch 91/150\n",
            "2/2 [==============================] - 0s 3ms/step - loss: 0.2573 - accuracy: 0.8960\n",
            "Epoch 92/150\n",
            "2/2 [==============================] - 0s 3ms/step - loss: 0.2482 - accuracy: 0.8960\n",
            "Epoch 93/150\n",
            "2/2 [==============================] - 0s 3ms/step - loss: 0.2409 - accuracy: 0.9040\n",
            "Epoch 94/150\n",
            "2/2 [==============================] - 0s 3ms/step - loss: 0.2458 - accuracy: 0.8960\n",
            "Epoch 95/150\n",
            "2/2 [==============================] - 0s 4ms/step - loss: 0.2452 - accuracy: 0.8960\n",
            "Epoch 96/150\n",
            "2/2 [==============================] - 0s 3ms/step - loss: 0.2581 - accuracy: 0.8960\n",
            "Epoch 97/150\n",
            "2/2 [==============================] - 0s 4ms/step - loss: 0.2511 - accuracy: 0.8960\n",
            "Epoch 98/150\n",
            "2/2 [==============================] - 0s 3ms/step - loss: 0.2424 - accuracy: 0.8960\n",
            "Epoch 99/150\n",
            "2/2 [==============================] - 0s 4ms/step - loss: 0.2461 - accuracy: 0.9040\n",
            "Epoch 100/150\n",
            "2/2 [==============================] - 0s 3ms/step - loss: 0.2501 - accuracy: 0.8880\n",
            "Epoch 101/150\n",
            "2/2 [==============================] - 0s 4ms/step - loss: 0.2394 - accuracy: 0.9040\n",
            "Epoch 102/150\n",
            "2/2 [==============================] - 0s 4ms/step - loss: 0.2554 - accuracy: 0.8960\n",
            "Epoch 103/150\n",
            "2/2 [==============================] - 0s 3ms/step - loss: 0.2526 - accuracy: 0.8960\n",
            "Epoch 104/150\n",
            "2/2 [==============================] - 0s 3ms/step - loss: 0.2481 - accuracy: 0.9120\n",
            "Epoch 105/150\n",
            "2/2 [==============================] - 0s 3ms/step - loss: 0.2392 - accuracy: 0.8800\n",
            "Epoch 106/150\n",
            "2/2 [==============================] - 0s 3ms/step - loss: 0.2399 - accuracy: 0.8960\n",
            "Epoch 107/150\n",
            "2/2 [==============================] - 0s 3ms/step - loss: 0.2468 - accuracy: 0.8960\n",
            "Epoch 108/150\n",
            "2/2 [==============================] - 0s 3ms/step - loss: 0.2410 - accuracy: 0.9040\n",
            "Epoch 109/150\n",
            "2/2 [==============================] - 0s 9ms/step - loss: 0.2411 - accuracy: 0.9040\n",
            "Epoch 110/150\n",
            "2/2 [==============================] - 0s 5ms/step - loss: 0.2332 - accuracy: 0.9120\n",
            "Epoch 111/150\n",
            "2/2 [==============================] - 0s 4ms/step - loss: 0.2586 - accuracy: 0.8880\n",
            "Epoch 112/150\n",
            "2/2 [==============================] - 0s 3ms/step - loss: 0.2385 - accuracy: 0.8960\n",
            "Epoch 113/150\n",
            "2/2 [==============================] - 0s 3ms/step - loss: 0.2162 - accuracy: 0.8960\n",
            "Epoch 114/150\n",
            "2/2 [==============================] - 0s 7ms/step - loss: 0.2478 - accuracy: 0.8880\n",
            "Epoch 115/150\n",
            "2/2 [==============================] - 0s 3ms/step - loss: 0.2265 - accuracy: 0.9040\n",
            "Epoch 116/150\n",
            "2/2 [==============================] - 0s 3ms/step - loss: 0.2401 - accuracy: 0.8960\n",
            "Epoch 117/150\n",
            "2/2 [==============================] - 0s 3ms/step - loss: 0.2290 - accuracy: 0.8880\n",
            "Epoch 118/150\n",
            "2/2 [==============================] - 0s 3ms/step - loss: 0.2203 - accuracy: 0.9200\n",
            "Epoch 119/150\n",
            "2/2 [==============================] - 0s 3ms/step - loss: 0.2344 - accuracy: 0.9040\n",
            "Epoch 120/150\n",
            "2/2 [==============================] - 0s 10ms/step - loss: 0.2398 - accuracy: 0.9040\n",
            "Epoch 121/150\n",
            "2/2 [==============================] - 0s 5ms/step - loss: 0.2262 - accuracy: 0.8880\n",
            "Epoch 122/150\n",
            "2/2 [==============================] - 0s 7ms/step - loss: 0.2209 - accuracy: 0.9120\n",
            "Epoch 123/150\n",
            "2/2 [==============================] - 0s 4ms/step - loss: 0.2241 - accuracy: 0.9120\n",
            "Epoch 124/150\n",
            "2/2 [==============================] - 0s 7ms/step - loss: 0.2212 - accuracy: 0.9200\n",
            "Epoch 125/150\n",
            "2/2 [==============================] - 0s 3ms/step - loss: 0.2466 - accuracy: 0.9040\n",
            "Epoch 126/150\n",
            "2/2 [==============================] - 0s 6ms/step - loss: 0.2454 - accuracy: 0.9040\n",
            "Epoch 127/150\n",
            "2/2 [==============================] - 0s 13ms/step - loss: 0.2234 - accuracy: 0.9200\n",
            "Epoch 128/150\n",
            "2/2 [==============================] - 0s 7ms/step - loss: 0.2376 - accuracy: 0.9120\n",
            "Epoch 129/150\n",
            "2/2 [==============================] - 0s 6ms/step - loss: 0.2256 - accuracy: 0.9120\n",
            "Epoch 130/150\n",
            "2/2 [==============================] - 0s 9ms/step - loss: 0.2253 - accuracy: 0.8880\n",
            "Epoch 131/150\n",
            "2/2 [==============================] - 0s 6ms/step - loss: 0.2389 - accuracy: 0.9040\n",
            "Epoch 132/150\n",
            "2/2 [==============================] - 0s 3ms/step - loss: 0.2338 - accuracy: 0.8880\n",
            "Epoch 133/150\n",
            "2/2 [==============================] - 0s 6ms/step - loss: 0.2324 - accuracy: 0.9120\n",
            "Epoch 134/150\n",
            "2/2 [==============================] - 0s 7ms/step - loss: 0.2258 - accuracy: 0.9120\n",
            "Epoch 135/150\n",
            "2/2 [==============================] - 0s 5ms/step - loss: 0.2135 - accuracy: 0.9120\n",
            "Epoch 136/150\n",
            "2/2 [==============================] - 0s 4ms/step - loss: 0.2265 - accuracy: 0.9200\n",
            "Epoch 137/150\n",
            "2/2 [==============================] - 0s 5ms/step - loss: 0.2264 - accuracy: 0.9200\n",
            "Epoch 138/150\n",
            "2/2 [==============================] - 0s 3ms/step - loss: 0.2218 - accuracy: 0.9120\n",
            "Epoch 139/150\n",
            "2/2 [==============================] - 0s 4ms/step - loss: 0.2248 - accuracy: 0.9280\n",
            "Epoch 140/150\n",
            "2/2 [==============================] - 0s 4ms/step - loss: 0.2325 - accuracy: 0.9200\n",
            "Epoch 141/150\n",
            "2/2 [==============================] - 0s 7ms/step - loss: 0.2290 - accuracy: 0.9120\n",
            "Epoch 142/150\n",
            "2/2 [==============================] - 0s 6ms/step - loss: 0.2193 - accuracy: 0.9120\n",
            "Epoch 143/150\n",
            "2/2 [==============================] - 0s 5ms/step - loss: 0.2249 - accuracy: 0.9200\n",
            "Epoch 144/150\n",
            "2/2 [==============================] - 0s 5ms/step - loss: 0.2249 - accuracy: 0.9120\n",
            "Epoch 145/150\n",
            "2/2 [==============================] - 0s 5ms/step - loss: 0.2203 - accuracy: 0.9200\n",
            "Epoch 146/150\n",
            "2/2 [==============================] - 0s 5ms/step - loss: 0.2273 - accuracy: 0.9200\n",
            "Epoch 147/150\n",
            "2/2 [==============================] - 0s 5ms/step - loss: 0.2455 - accuracy: 0.9120\n",
            "Epoch 148/150\n",
            "2/2 [==============================] - 0s 8ms/step - loss: 0.2348 - accuracy: 0.8960\n",
            "Epoch 149/150\n",
            "2/2 [==============================] - 0s 4ms/step - loss: 0.2236 - accuracy: 0.9120\n",
            "Epoch 150/150\n",
            "2/2 [==============================] - 0s 8ms/step - loss: 0.2369 - accuracy: 0.9120\n"
          ]
        }
      ],
      "source": [
        "History = classifier.fit(X_train, ytrain, batch_size=100, epochs=150)"
      ]
    },
    {
      "cell_type": "code",
      "execution_count": 19,
      "id": "0afd04a6",
      "metadata": {
        "colab": {
          "base_uri": "https://localhost:8080/",
          "height": 286
        },
        "id": "0afd04a6",
        "outputId": "8d6d4e61-5efc-47be-d854-e51aebbfc305"
      },
      "outputs": [
        {
          "output_type": "stream",
          "name": "stdout",
          "text": [
            "[Epoch:150] Our accuracy is 78.78787878787878%\n"
          ]
        },
        {
          "output_type": "display_data",
          "data": {
            "image/png": "[encoded data removed]",
            "text/plain": [
              "<Figure size 432x288 with 2 Axes>"
            ]
          },
          "metadata": {
            "needs_background": "light"
          }
        }
      ],
      "source": [
        "y_pred = classifier.predict(X_test)\n",
        "y_pred = (y_pred > 0.5)\n",
        "\n",
        "from sklearn.metrics import confusion_matrix\n",
        "cm = confusion_matrix(y_test.astype(int), y_pred.astype(int))\n",
        "\n",
        "\n",
        "print(\"[Epoch:150] Our accuracy is {}%\".format(((cm[0][0] + cm[1][1])/33)*100))\n",
        "\n",
        "sns.heatmap(cm,annot=True)\n",
        "plt.savefig('epoch150.png')"
      ]
    },
    {
      "cell_type": "code",
      "execution_count": 21,
      "id": "28e2a553",
      "metadata": {
        "id": "28e2a553"
      },
      "outputs": [],
      "source": [
        "from sklearn.metrics import roc_curve\n",
        "y_pred = classifier.predict(X_test).ravel()\n",
        "fpr_keras, tpr_keras, thresholds_keras = roc_curve(y_test.astype(int), y_pred.astype(int))"
      ]
    },
    {
      "cell_type": "code",
      "execution_count": 29,
      "id": "0bf3a678",
      "metadata": {
        "colab": {
          "base_uri": "https://localhost:8080/",
          "height": 282
        },
        "id": "0bf3a678",
        "outputId": "40c40579-d0b8-49de-f98d-76a07aac728d"
      },
      "outputs": [
        {
          "output_type": "execute_result",
          "data": {
            "text/plain": [
              "[<matplotlib.lines.Line2D at 0x7fb881ccbd90>]"
            ]
          },
          "metadata": {},
          "execution_count": 29
        },
        {
          "output_type": "display_data",
          "data": {
            "image/png": "[encoded data removed]",
            "text/plain": [
              "<Figure size 432x288 with 1 Axes>"
            ]
          },
          "metadata": {
            "needs_background": "light"
          }
        }
      ],
      "source": [
        "from sklearn.metrics import auc\n",
        "auc_keras = auc(fpr_keras, tpr_keras)\n",
        "plt.plot(fpr_keras, tpr_keras, marker='.', label='Neural Network (auc = %0.3f)' % auc_keras)"
      ]
    },
    {
      "cell_type": "code",
      "source": [
        "plt.plot(History.history['loss'])\n",
        "plt.plot(History.history['accuracy'])\n",
        "plt.title('model loss')\n",
        "plt.ylabel('loss')\n",
        "plt.xlabel('epoch')\n",
        "plt.legend(['train', 'test'], loc='upper left')\n",
        "plt.show()"
      ],
      "metadata": {
        "colab": {
          "base_uri": "https://localhost:8080/",
          "height": 295
        },
        "id": "0zOLi-2Msdli",
        "outputId": "c77a715b-3122-497c-f6c4-1e6d7c8f689b"
      },
      "id": "0zOLi-2Msdli",
      "execution_count": 26,
      "outputs": [
        {
          "output_type": "display_data",
          "data": {
            "image/png": "[encoded data removed]",
            "text/plain": [
              "<Figure size 432x288 with 1 Axes>"
            ]
          },
          "metadata": {
            "needs_background": "light"
          }
        }
      ]
    }
  ],
  "metadata": {
    "kernelspec": {
      "display_name": "Python 3",
      "language": "python",
      "name": "python3"
    },
    "language_info": {
      "codemirror_mode": {
        "name": "ipython",
        "version": 3
      },
      "file_extension": ".py",
      "mimetype": "text/x-python",
      "name": "python",
      "nbconvert_exporter": "python",
      "pygments_lexer": "ipython3",
      "version": "3.8.8"
    },
    "colab": {
      "name": "ANN Images(tohamy).ipynb",
      "provenance": [],
      "collapsed_sections": []
    }
  },
  "nbformat": 4,
  "nbformat_minor": 5
}