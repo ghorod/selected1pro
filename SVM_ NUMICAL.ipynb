{
 "cells": [
  {
   "cell_type": "code",
   "execution_count": 391,
   "id": "d49f6c7d",
   "metadata": {},
   "outputs": [],
   "source": [
    "import numpy as np # linear algebra\n",
    "import pandas as pd # data processing, CSV file I/O (e.g. pd.read_csv)\n",
    "import os\n",
    "import theano\n",
    "import keras\n",
    "import tensorflow\n",
    "import warnings\n",
    "warnings.filterwarnings(\"ignore\")\n",
    "import matplotlib.pyplot as plt\n",
    "import seaborn as sns\n",
    "sns.set()\n",
    "#print(os.listdir(\"../input\"))\n"
   ]
  },
  {
   "cell_type": "code",
   "execution_count": 392,
   "id": "8f89e0a4",
   "metadata": {},
   "outputs": [],
   "source": [
    "churn_data = pd.read_csv('Churn_Modelling.csv',index_col='RowNumber')"
   ]
  },
  {
   "cell_type": "code",
   "execution_count": 393,
   "id": "1abc6314",
   "metadata": {},
   "outputs": [
    {
     "name": "stdout",
     "output_type": "stream",
     "text": [
      "<class 'pandas.core.frame.DataFrame'>\n",
      "Int64Index: 10000 entries, 1 to 10000\n",
      "Data columns (total 13 columns):\n",
      " #   Column           Non-Null Count  Dtype  \n",
      "---  ------           --------------  -----  \n",
      " 0   CustomerId       10000 non-null  int64  \n",
      " 1   Surname          10000 non-null  object \n",
      " 2   CreditScore      10000 non-null  int64  \n",
      " 3   Geography        10000 non-null  object \n",
      " 4   Gender           10000 non-null  object \n",
      " 5   Age              10000 non-null  int64  \n",
      " 6   Tenure           10000 non-null  int64  \n",
      " 7   Balance          10000 non-null  float64\n",
      " 8   NumOfProducts    10000 non-null  int64  \n",
      " 9   HasCrCard        10000 non-null  int64  \n",
      " 10  IsActiveMember   10000 non-null  int64  \n",
      " 11  EstimatedSalary  10000 non-null  float64\n",
      " 12  Exited           10000 non-null  int64  \n",
      "dtypes: float64(2), int64(8), object(3)\n",
      "memory usage: 1.1+ MB\n"
     ]
    }
   ],
   "source": [
    "churn_data.info()"
   ]
  },
  {
   "cell_type": "code",
   "execution_count": 394,
   "id": "0f5a2bc0",
   "metadata": {},
   "outputs": [],
   "source": [
    "# some columns are unproductive remove them\n",
    "churn_data.drop(['CustomerId','Surname'],axis=1,inplace=True)"
   ]
  },
  {
   "cell_type": "code",
   "execution_count": 395,
   "id": "7406607a",
   "metadata": {},
   "outputs": [],
   "source": [
    "# some columns have text data so let's one hot encode them\n",
    "Geography_dummies = pd.get_dummies(prefix='Geo',data=churn_data,columns=['Geography'])"
   ]
  },
  {
   "cell_type": "code",
   "execution_count": 396,
   "id": "052fc290",
   "metadata": {},
   "outputs": [],
   "source": [
    "Gender_dummies = Geography_dummies.replace(to_replace={'Gender': {'Female': 1,'Male':0}})\n"
   ]
  },
  {
   "cell_type": "code",
   "execution_count": 397,
   "id": "953e2d45",
   "metadata": {},
   "outputs": [],
   "source": [
    "churn_data_encoded = Gender_dummies"
   ]
  },
  {
   "cell_type": "code",
   "execution_count": 398,
   "id": "cafdf218",
   "metadata": {},
   "outputs": [
    {
     "data": {
      "image/png": "[encoded data removed]",
      "text/plain": [
       "<Figure size 432x288 with 1 Axes>"
      ]
     },
     "metadata": {},
     "output_type": "display_data"
    }
   ],
   "source": [
    "sns.countplot(y=churn_data_encoded.Exited ,data=churn_data_encoded)\n",
    "plt.xlabel(\"Count of each Target class\")\n",
    "plt.ylabel(\"Target classes\")\n",
    "plt.show()"
   ]
  },
  {
   "cell_type": "code",
   "execution_count": 399,
   "id": "208a78b4",
   "metadata": {},
   "outputs": [],
   "source": [
    "X = churn_data_encoded.drop(['Exited'],axis=1)\n",
    "y = churn_data_encoded.Exited"
   ]
  },
  {
   "cell_type": "code",
   "execution_count": 400,
   "id": "ba91d20d",
   "metadata": {},
   "outputs": [],
   "source": [
    "# Splitting the dataset into the Training set and Test set\n",
    "from sklearn.model_selection import train_test_split\n",
    "X_train, X_test, y_train, y_test = train_test_split(X, y, test_size = 0.33, random_state = 0)"
   ]
  },
  {
   "cell_type": "code",
   "execution_count": 401,
   "id": "74b8aef3",
   "metadata": {},
   "outputs": [],
   "source": [
    "# Feature Scaling because yes we don't want one independent variable dominating the other and it makes computations easy\n",
    "from sklearn.preprocessing import StandardScaler\n",
    "sc = StandardScaler()\n",
    "X_train = sc.fit_transform(X_train)\n",
    "X_test = sc.transform(X_test)"
   ]
  },
  {
   "cell_type": "code",
   "execution_count": 402,
   "id": "ca9a952a",
   "metadata": {},
   "outputs": [
    {
     "data": {
      "text/plain": [
       "SVC()"
      ]
     },
     "execution_count": 402,
     "metadata": {},
     "output_type": "execute_result"
    }
   ],
   "source": [
    "from sklearn import svm\n",
    "\n",
    "clf = svm.SVC()\n",
    "clf.fit(X_train, y_train)"
   ]
  },
  {
   "cell_type": "code",
   "execution_count": 403,
   "id": "2f4ad3b4",
   "metadata": {},
   "outputs": [],
   "source": [
    "y_pred = clf.predict(X_test)"
   ]
  },
  {
   "cell_type": "code",
   "execution_count": 404,
   "id": "b6300574",
   "metadata": {},
   "outputs": [],
   "source": [
    "from sklearn.metrics import accuracy_score, confusion_matrix, precision_recall_fscore_support\n",
    "cm = confusion_matrix(y_test, y_pred , labels = None) "
   ]
  },
  {
   "cell_type": "code",
   "execution_count": 405,
   "id": "d47403f0",
   "metadata": {},
   "outputs": [
    {
     "data": {
      "text/plain": [
       "array([[2541,   76],\n",
       "       [ 396,  287]], dtype=int64)"
      ]
     },
     "execution_count": 405,
     "metadata": {},
     "output_type": "execute_result"
    }
   ],
   "source": [
    "cm"
   ]
  },
  {
   "cell_type": "code",
   "execution_count": 406,
   "id": "35215052",
   "metadata": {},
   "outputs": [
    {
     "data": {
      "text/plain": [
       "(2, 2)"
      ]
     },
     "execution_count": 406,
     "metadata": {},
     "output_type": "execute_result"
    }
   ],
   "source": [
    "cm.shape"
   ]
  },
  {
   "cell_type": "code",
   "execution_count": 407,
   "id": "021f76b0",
   "metadata": {},
   "outputs": [
    {
     "data": {
      "text/plain": [
       "<AxesSubplot:title={'center':'Confusion Matrix'}, xlabel='Predicted label', ylabel='True label'>"
      ]
     },
     "execution_count": 407,
     "metadata": {},
     "output_type": "execute_result"
    },
    {
     "data": {
      "image/png": "[encoded data removed]",
      "text/plain": [
       "<Figure size 360x360 with 2 Axes>"
      ]
     },
     "metadata": {},
     "output_type": "display_data"
    }
   ],
   "source": [
    "import scikitplot as skplt\n",
    "\n",
    "skplt.metrics.plot_confusion_matrix(\n",
    "    y_test, \n",
    "    y_pred,\n",
    "    figsize=(5,5))"
   ]
  },
  {
   "cell_type": "code",
   "execution_count": 408,
   "id": "a51e026d",
   "metadata": {},
   "outputs": [
    {
     "data": {
      "text/plain": [
       "RandomForestClassifier(max_features=5, n_estimators=500)"
      ]
     },
     "execution_count": 408,
     "metadata": {},
     "output_type": "execute_result"
    }
   ],
   "source": [
    "from sklearn.ensemble import RandomForestClassifier\n",
    "from sklearn.naive_bayes import GaussianNB\n",
    "rf = RandomForestClassifier(max_features=5, n_estimators=500)\n",
    "rf.fit(X_train, y_train)"
   ]
  },
  {
   "cell_type": "code",
   "execution_count": 409,
   "id": "2db45fa2",
   "metadata": {},
   "outputs": [
    {
     "data": {
      "text/plain": [
       "GaussianNB()"
      ]
     },
     "execution_count": 409,
     "metadata": {},
     "output_type": "execute_result"
    }
   ],
   "source": [
    "nb = GaussianNB()\n",
    "nb.fit(X_train, y_train)"
   ]
  },
  {
   "cell_type": "code",
   "execution_count": 410,
   "id": "365f84c4",
   "metadata": {},
   "outputs": [],
   "source": [
    "r_probs = [0 for _ in range(len(y_test))]\n",
    "rf_probs = rf.predict_proba(X_test)\n",
    "nb_probs = nb.predict_proba(X_test)"
   ]
  },
  {
   "cell_type": "code",
   "execution_count": 411,
   "id": "74513893",
   "metadata": {},
   "outputs": [],
   "source": [
    "rf_probs = rf_probs[:, 1]\n",
    "nb_probs = nb_probs[:, 1]"
   ]
  },
  {
   "cell_type": "code",
   "execution_count": 412,
   "id": "ddb87072",
   "metadata": {},
   "outputs": [],
   "source": [
    "from sklearn.metrics import roc_curve, roc_auc_score\n",
    "r_auc = roc_auc_score(y_test, r_probs)\n",
    "rf_auc = roc_auc_score(y_test, rf_probs)\n",
    "nb_auc = roc_auc_score(y_test, nb_probs)"
   ]
  },
  {
   "cell_type": "code",
   "execution_count": 413,
   "id": "48f6e9bd",
   "metadata": {},
   "outputs": [
    {
     "name": "stdout",
     "output_type": "stream",
     "text": [
      "Random (chance) Prediction: AUROC = 0.500\n",
      "Random Forest: AUROC = 0.867\n",
      "Naive Bayes: AUROC = 0.778\n"
     ]
    }
   ],
   "source": [
    "print('Random (chance) Prediction: AUROC = %.3f' % (r_auc))\n",
    "print('Random Forest: AUROC = %.3f' % (rf_auc))\n",
    "print('Naive Bayes: AUROC = %.3f' % (nb_auc))"
   ]
  },
  {
   "cell_type": "code",
   "execution_count": 414,
   "id": "f6990ce0",
   "metadata": {},
   "outputs": [],
   "source": [
    "r_fpr, r_tpr, _ = roc_curve(y_test, r_probs)\n",
    "rf_fpr, rf_tpr, _ = roc_curve(y_test, rf_probs)\n",
    "nb_fpr, nb_tpr, _ = roc_curve(y_test, nb_probs)"
   ]
  },
  {
   "cell_type": "code",
   "execution_count": 415,
   "id": "d95c087e",
   "metadata": {},
   "outputs": [
    {
     "data": {
      "image/png": "[encoded data removed]",
      "text/plain": [
       "<Figure size 432x288 with 1 Axes>"
      ]
     },
     "metadata": {},
     "output_type": "display_data"
    }
   ],
   "source": [
    "import matplotlib.pyplot as plt\n",
    "plt.plot(r_fpr, r_tpr, linestyle='--', label='Random prediction (AUROC = %0.3f)' % r_auc)\n",
    "plt.plot(rf_fpr, rf_tpr, marker='.', label='Random Forest (AUROC = %0.3f)' % rf_auc)\n",
    "plt.plot(nb_fpr, nb_tpr, marker='.', label='Naive Bayes (AUROC = %0.3f)' % nb_auc)\n",
    "\n",
    "# Title\n",
    "plt.title('ROC Plot')\n",
    "# Axis labels\n",
    "plt.xlabel('False Positive Rate')\n",
    "plt.ylabel('True Positive Rate')\n",
    "# Show legend\n",
    "plt.legend() # \n",
    "# Show plot\n",
    "plt.show()"
   ]
  },
  {
   "cell_type": "code",
   "execution_count": 418,
   "id": "87111975",
   "metadata": {},
   "outputs": [
    {
     "name": "stdout",
     "output_type": "stream",
     "text": [
      "Epoch 1/100\n",
      "670/670 [==============================] - 3s 4ms/step - loss: 3.9123 - accuracy: 0.0778 - val_loss: 3.9498 - val_accuracy: 0.0758\n",
      "Epoch 2/100\n",
      "670/670 [==============================] - 4s 5ms/step - loss: 3.9123 - accuracy: 0.0778 - val_loss: 3.9498 - val_accuracy: 0.0758\n",
      "Epoch 3/100\n",
      "670/670 [==============================] - 3s 5ms/step - loss: 3.9123 - accuracy: 0.0778 - val_loss: 3.9498 - val_accuracy: 0.0758\n",
      "Epoch 4/100\n",
      "670/670 [==============================] - 4s 6ms/step - loss: 3.9123 - accuracy: 0.0778 - val_loss: 3.9498 - val_accuracy: 0.0758\n",
      "Epoch 5/100\n",
      "670/670 [==============================] - 4s 6ms/step - loss: 3.9123 - accuracy: 0.0778 - val_loss: 3.9498 - val_accuracy: 0.0758\n",
      "Epoch 6/100\n",
      "670/670 [==============================] - 4s 5ms/step - loss: 3.9123 - accuracy: 0.0778 - val_loss: 3.9498 - val_accuracy: 0.0758\n",
      "Epoch 7/100\n",
      "670/670 [==============================] - 4s 5ms/step - loss: 3.9123 - accuracy: 0.0778 - val_loss: 3.9498 - val_accuracy: 0.0758\n",
      "Epoch 8/100\n",
      "670/670 [==============================] - 4s 6ms/step - loss: 3.9123 - accuracy: 0.0778 - val_loss: 3.9498 - val_accuracy: 0.0758\n",
      "Epoch 9/100\n",
      "670/670 [==============================] - 2s 3ms/step - loss: 3.9123 - accuracy: 0.0778 - val_loss: 3.9498 - val_accuracy: 0.0758\n",
      "Epoch 10/100\n",
      "670/670 [==============================] - 3s 4ms/step - loss: 3.9123 - accuracy: 0.0778 - val_loss: 3.9498 - val_accuracy: 0.0758\n",
      "Epoch 11/100\n",
      "670/670 [==============================] - 4s 5ms/step - loss: 3.9123 - accuracy: 0.0778 - val_loss: 3.9498 - val_accuracy: 0.0758\n",
      "Epoch 12/100\n",
      "670/670 [==============================] - 3s 5ms/step - loss: 3.9123 - accuracy: 0.0778 - val_loss: 3.9498 - val_accuracy: 0.0758\n",
      "Epoch 13/100\n",
      "670/670 [==============================] - 4s 6ms/step - loss: 3.9123 - accuracy: 0.0778 - val_loss: 3.9498 - val_accuracy: 0.0758\n",
      "Epoch 14/100\n",
      "670/670 [==============================] - 2s 3ms/step - loss: 3.9123 - accuracy: 0.0778 - val_loss: 3.9498 - val_accuracy: 0.0758\n",
      "Epoch 15/100\n",
      "670/670 [==============================] - 3s 5ms/step - loss: 3.9123 - accuracy: 0.0778 - val_loss: 3.9498 - val_accuracy: 0.0758\n",
      "Epoch 16/100\n",
      "670/670 [==============================] - 3s 5ms/step - loss: 3.9123 - accuracy: 0.0778 - val_loss: 3.9498 - val_accuracy: 0.0758\n",
      "Epoch 17/100\n",
      "670/670 [==============================] - 3s 4ms/step - loss: 3.9123 - accuracy: 0.0778 - val_loss: 3.9498 - val_accuracy: 0.0758\n",
      "Epoch 18/100\n",
      "670/670 [==============================] - 4s 6ms/step - loss: 3.9123 - accuracy: 0.0778 - val_loss: 3.9498 - val_accuracy: 0.0758\n",
      "Epoch 19/100\n",
      "670/670 [==============================] - 4s 6ms/step - loss: 3.9123 - accuracy: 0.0778 - val_loss: 3.9498 - val_accuracy: 0.0758\n",
      "Epoch 20/100\n",
      "670/670 [==============================] - 3s 5ms/step - loss: 3.9123 - accuracy: 0.0778 - val_loss: 3.9498 - val_accuracy: 0.0758\n",
      "Epoch 21/100\n",
      "670/670 [==============================] - 4s 5ms/step - loss: 3.9123 - accuracy: 0.0778 - val_loss: 3.9498 - val_accuracy: 0.0758\n",
      "Epoch 22/100\n",
      "670/670 [==============================] - 3s 5ms/step - loss: 3.9123 - accuracy: 0.0778 - val_loss: 3.9498 - val_accuracy: 0.0758\n",
      "Epoch 23/100\n",
      "670/670 [==============================] - 4s 6ms/step - loss: 3.9123 - accuracy: 0.0778 - val_loss: 3.9498 - val_accuracy: 0.0758\n",
      "Epoch 24/100\n",
      "670/670 [==============================] - 3s 4ms/step - loss: 3.9123 - accuracy: 0.0778 - val_loss: 3.9498 - val_accuracy: 0.0758\n",
      "Epoch 25/100\n",
      "670/670 [==============================] - 4s 6ms/step - loss: 3.9123 - accuracy: 0.0778 - val_loss: 3.9498 - val_accuracy: 0.0758\n",
      "Epoch 26/100\n",
      "670/670 [==============================] - 3s 5ms/step - loss: 3.9123 - accuracy: 0.0778 - val_loss: 3.9498 - val_accuracy: 0.0758\n",
      "Epoch 27/100\n",
      "670/670 [==============================] - 4s 6ms/step - loss: 3.9123 - accuracy: 0.0778 - val_loss: 3.9498 - val_accuracy: 0.0758\n",
      "Epoch 28/100\n",
      "670/670 [==============================] - 3s 5ms/step - loss: 3.9123 - accuracy: 0.0778 - val_loss: 3.9498 - val_accuracy: 0.0758\n",
      "Epoch 29/100\n",
      "670/670 [==============================] - 4s 6ms/step - loss: 3.9123 - accuracy: 0.0778 - val_loss: 3.9498 - val_accuracy: 0.0758\n",
      "Epoch 30/100\n",
      "670/670 [==============================] - 4s 6ms/step - loss: 3.9123 - accuracy: 0.0778 - val_loss: 3.9498 - val_accuracy: 0.0758\n",
      "Epoch 31/100\n",
      "670/670 [==============================] - 4s 6ms/step - loss: 3.9123 - accuracy: 0.0778 - val_loss: 3.9498 - val_accuracy: 0.0758\n",
      "Epoch 32/100\n",
      "670/670 [==============================] - 5s 7ms/step - loss: 3.9123 - accuracy: 0.0778 - val_loss: 3.9498 - val_accuracy: 0.0758\n",
      "Epoch 33/100\n",
      "670/670 [==============================] - 4s 6ms/step - loss: 3.9123 - accuracy: 0.0778 - val_loss: 3.9498 - val_accuracy: 0.0758\n",
      "Epoch 34/100\n",
      "670/670 [==============================] - 5s 7ms/step - loss: 3.9123 - accuracy: 0.0778 - val_loss: 3.9498 - val_accuracy: 0.0758\n",
      "Epoch 35/100\n",
      "670/670 [==============================] - 4s 6ms/step - loss: 3.9123 - accuracy: 0.0778 - val_loss: 3.9498 - val_accuracy: 0.0758\n",
      "Epoch 36/100\n",
      "670/670 [==============================] - 4s 6ms/step - loss: 3.9123 - accuracy: 0.0778 - val_loss: 3.9498 - val_accuracy: 0.0758\n",
      "Epoch 37/100\n",
      "670/670 [==============================] - 4s 7ms/step - loss: 3.9123 - accuracy: 0.0778 - val_loss: 3.9498 - val_accuracy: 0.0758\n",
      "Epoch 38/100\n",
      "670/670 [==============================] - 4s 5ms/step - loss: 3.9123 - accuracy: 0.0778 - val_loss: 3.9498 - val_accuracy: 0.0758\n",
      "Epoch 39/100\n",
      "670/670 [==============================] - 4s 6ms/step - loss: 3.9123 - accuracy: 0.0778 - val_loss: 3.9498 - val_accuracy: 0.0758\n",
      "Epoch 40/100\n",
      "670/670 [==============================] - 4s 6ms/step - loss: 3.9123 - accuracy: 0.0778 - val_loss: 3.9498 - val_accuracy: 0.0758\n",
      "Epoch 41/100\n",
      "670/670 [==============================] - 3s 5ms/step - loss: 3.9123 - accuracy: 0.0778 - val_loss: 3.9498 - val_accuracy: 0.0758\n",
      "Epoch 42/100\n",
      "670/670 [==============================] - 4s 6ms/step - loss: 3.9123 - accuracy: 0.0778 - val_loss: 3.9498 - val_accuracy: 0.0758\n",
      "Epoch 43/100\n",
      "670/670 [==============================] - 3s 5ms/step - loss: 3.9123 - accuracy: 0.0778 - val_loss: 3.9498 - val_accuracy: 0.0758\n",
      "Epoch 44/100\n",
      "670/670 [==============================] - 2s 3ms/step - loss: 3.9123 - accuracy: 0.0778 - val_loss: 3.9498 - val_accuracy: 0.0758\n",
      "Epoch 45/100\n",
      "670/670 [==============================] - 3s 4ms/step - loss: 3.9123 - accuracy: 0.0778 - val_loss: 3.9498 - val_accuracy: 0.0758\n",
      "Epoch 46/100\n",
      "670/670 [==============================] - 3s 5ms/step - loss: 3.9123 - accuracy: 0.0778 - val_loss: 3.9498 - val_accuracy: 0.0758\n",
      "Epoch 47/100\n",
      "670/670 [==============================] - 3s 5ms/step - loss: 3.9123 - accuracy: 0.0778 - val_loss: 3.9498 - val_accuracy: 0.0758\n",
      "Epoch 48/100\n",
      "670/670 [==============================] - 4s 5ms/step - loss: 3.9123 - accuracy: 0.0778 - val_loss: 3.9498 - val_accuracy: 0.0758\n",
      "Epoch 49/100\n",
      "670/670 [==============================] - 4s 5ms/step - loss: 3.9123 - accuracy: 0.0778 - val_loss: 3.9498 - val_accuracy: 0.0758\n",
      "Epoch 50/100\n",
      "670/670 [==============================] - 3s 5ms/step - loss: 3.9123 - accuracy: 0.0778 - val_loss: 3.9498 - val_accuracy: 0.0758\n",
      "Epoch 51/100\n",
      "670/670 [==============================] - 4s 7ms/step - loss: 3.9123 - accuracy: 0.0778 - val_loss: 3.9498 - val_accuracy: 0.0758\n",
      "Epoch 52/100\n",
      "670/670 [==============================] - 4s 7ms/step - loss: 3.9123 - accuracy: 0.0778 - val_loss: 3.9498 - val_accuracy: 0.0758\n",
      "Epoch 53/100\n",
      "670/670 [==============================] - 4s 5ms/step - loss: 3.9123 - accuracy: 0.0778 - val_loss: 3.9498 - val_accuracy: 0.0758\n",
      "Epoch 54/100\n",
      "670/670 [==============================] - 4s 6ms/step - loss: 3.9123 - accuracy: 0.0778 - val_loss: 3.9498 - val_accuracy: 0.0758\n",
      "Epoch 55/100\n",
      "670/670 [==============================] - 4s 5ms/step - loss: 3.9123 - accuracy: 0.0778 - val_loss: 3.9498 - val_accuracy: 0.0758\n",
      "Epoch 56/100\n",
      "670/670 [==============================] - 4s 5ms/step - loss: 3.9123 - accuracy: 0.0778 - val_loss: 3.9498 - val_accuracy: 0.0758\n",
      "Epoch 57/100\n",
      "670/670 [==============================] - 4s 6ms/step - loss: 3.9123 - accuracy: 0.0778 - val_loss: 3.9498 - val_accuracy: 0.0758\n",
      "Epoch 58/100\n",
      "670/670 [==============================] - 4s 6ms/step - loss: 3.9123 - accuracy: 0.0778 - val_loss: 3.9498 - val_accuracy: 0.0758\n",
      "Epoch 59/100\n",
      "670/670 [==============================] - 3s 5ms/step - loss: 3.9123 - accuracy: 0.0778 - val_loss: 3.9498 - val_accuracy: 0.0758\n",
      "Epoch 60/100\n",
      "670/670 [==============================] - 3s 4ms/step - loss: 3.9123 - accuracy: 0.0778 - val_loss: 3.9498 - val_accuracy: 0.0758\n",
      "Epoch 61/100\n",
      "670/670 [==============================] - 2s 3ms/step - loss: 3.9123 - accuracy: 0.0778 - val_loss: 3.9498 - val_accuracy: 0.0758\n",
      "Epoch 62/100\n",
      "670/670 [==============================] - 3s 5ms/step - loss: 3.9123 - accuracy: 0.0778 - val_loss: 3.9498 - val_accuracy: 0.0758\n",
      "Epoch 63/100\n",
      "670/670 [==============================] - 3s 4ms/step - loss: 3.9123 - accuracy: 0.0778 - val_loss: 3.9498 - val_accuracy: 0.0758\n",
      "Epoch 64/100\n",
      "670/670 [==============================] - 3s 4ms/step - loss: 3.9123 - accuracy: 0.0778 - val_loss: 3.9498 - val_accuracy: 0.0758\n",
      "Epoch 65/100\n",
      "670/670 [==============================] - 3s 4ms/step - loss: 3.9123 - accuracy: 0.0778 - val_loss: 3.9498 - val_accuracy: 0.0758\n",
      "Epoch 66/100\n",
      "670/670 [==============================] - 3s 4ms/step - loss: 3.9123 - accuracy: 0.0778 - val_loss: 3.9498 - val_accuracy: 0.0758\n",
      "Epoch 67/100\n",
      "670/670 [==============================] - 3s 4ms/step - loss: 3.9123 - accuracy: 0.0778 - val_loss: 3.9498 - val_accuracy: 0.0758\n",
      "Epoch 68/100\n",
      "670/670 [==============================] - 3s 5ms/step - loss: 3.9123 - accuracy: 0.0778 - val_loss: 3.9498 - val_accuracy: 0.0758\n",
      "Epoch 69/100\n",
      "670/670 [==============================] - 3s 4ms/step - loss: 3.9123 - accuracy: 0.0778 - val_loss: 3.9498 - val_accuracy: 0.0758\n",
      "Epoch 70/100\n",
      "670/670 [==============================] - 3s 4ms/step - loss: 3.9123 - accuracy: 0.0778 - val_loss: 3.9498 - val_accuracy: 0.0758\n",
      "Epoch 71/100\n",
      "670/670 [==============================] - 3s 5ms/step - loss: 3.9123 - accuracy: 0.0778 - val_loss: 3.9498 - val_accuracy: 0.0758\n",
      "Epoch 72/100\n",
      "670/670 [==============================] - 3s 5ms/step - loss: 3.9123 - accuracy: 0.0778 - val_loss: 3.9498 - val_accuracy: 0.0758\n",
      "Epoch 73/100\n",
      "670/670 [==============================] - 3s 5ms/step - loss: 3.9123 - accuracy: 0.0778 - val_loss: 3.9498 - val_accuracy: 0.0758\n",
      "Epoch 74/100\n",
      "670/670 [==============================] - 4s 6ms/step - loss: 3.9123 - accuracy: 0.0778 - val_loss: 3.9498 - val_accuracy: 0.0758\n",
      "Epoch 75/100\n",
      "670/670 [==============================] - 4s 5ms/step - loss: 3.9123 - accuracy: 0.0778 - val_loss: 3.9498 - val_accuracy: 0.0758\n",
      "Epoch 76/100\n",
      "670/670 [==============================] - 4s 5ms/step - loss: 3.9123 - accuracy: 0.0778 - val_loss: 3.9498 - val_accuracy: 0.0758\n",
      "Epoch 77/100\n",
      "670/670 [==============================] - 4s 6ms/step - loss: 3.9123 - accuracy: 0.0778 - val_loss: 3.9498 - val_accuracy: 0.0758\n",
      "Epoch 78/100\n",
      "670/670 [==============================] - 4s 7ms/step - loss: 3.9123 - accuracy: 0.0778 - val_loss: 3.9498 - val_accuracy: 0.0758\n",
      "Epoch 79/100\n",
      "670/670 [==============================] - 4s 5ms/step - loss: 3.9123 - accuracy: 0.0778 - val_loss: 3.9498 - val_accuracy: 0.0758\n",
      "Epoch 80/100\n",
      "670/670 [==============================] - 4s 6ms/step - loss: 3.9123 - accuracy: 0.0778 - val_loss: 3.9498 - val_accuracy: 0.0758\n",
      "Epoch 81/100\n",
      "670/670 [==============================] - 5s 7ms/step - loss: 3.9123 - accuracy: 0.0778 - val_loss: 3.9498 - val_accuracy: 0.0758\n",
      "Epoch 82/100\n",
      "670/670 [==============================] - 4s 7ms/step - loss: 3.9123 - accuracy: 0.0778 - val_loss: 3.9498 - val_accuracy: 0.0758\n",
      "Epoch 83/100\n",
      "670/670 [==============================] - 2s 3ms/step - loss: 3.9123 - accuracy: 0.0778 - val_loss: 3.9498 - val_accuracy: 0.0758\n",
      "Epoch 84/100\n",
      "670/670 [==============================] - 3s 5ms/step - loss: 3.9123 - accuracy: 0.0778 - val_loss: 3.9498 - val_accuracy: 0.0758\n",
      "Epoch 85/100\n",
      "670/670 [==============================] - 4s 5ms/step - loss: 3.9123 - accuracy: 0.0778 - val_loss: 3.9498 - val_accuracy: 0.0758\n",
      "Epoch 86/100\n",
      "670/670 [==============================] - 4s 5ms/step - loss: 3.9123 - accuracy: 0.0778 - val_loss: 3.9498 - val_accuracy: 0.0758\n",
      "Epoch 87/100\n",
      "670/670 [==============================] - 4s 6ms/step - loss: 3.9123 - accuracy: 0.0778 - val_loss: 3.9498 - val_accuracy: 0.0758\n",
      "Epoch 88/100\n",
      "670/670 [==============================] - 4s 5ms/step - loss: 3.9123 - accuracy: 0.0778 - val_loss: 3.9498 - val_accuracy: 0.0758\n",
      "Epoch 89/100\n",
      "670/670 [==============================] - 5s 7ms/step - loss: 3.9123 - accuracy: 0.0778 - val_loss: 3.9498 - val_accuracy: 0.0758\n",
      "Epoch 90/100\n",
      "670/670 [==============================] - 4s 6ms/step - loss: 3.9123 - accuracy: 0.0778 - val_loss: 3.9498 - val_accuracy: 0.0758\n",
      "Epoch 91/100\n",
      "670/670 [==============================] - 4s 6ms/step - loss: 3.9123 - accuracy: 0.0778 - val_loss: 3.9498 - val_accuracy: 0.0758\n",
      "Epoch 92/100\n",
      "670/670 [==============================] - 4s 5ms/step - loss: 3.9123 - accuracy: 0.0778 - val_loss: 3.9498 - val_accuracy: 0.0758\n",
      "Epoch 93/100\n",
      "670/670 [==============================] - 4s 5ms/step - loss: 3.9123 - accuracy: 0.0778 - val_loss: 3.9498 - val_accuracy: 0.0758\n",
      "Epoch 94/100\n",
      "670/670 [==============================] - 4s 6ms/step - loss: 3.9123 - accuracy: 0.0778 - val_loss: 3.9498 - val_accuracy: 0.0758\n",
      "Epoch 95/100\n",
      "670/670 [==============================] - 4s 6ms/step - loss: 3.9123 - accuracy: 0.0778 - val_loss: 3.9498 - val_accuracy: 0.0758\n",
      "Epoch 96/100\n",
      "670/670 [==============================] - 4s 6ms/step - loss: 3.9123 - accuracy: 0.0778 - val_loss: 3.9498 - val_accuracy: 0.0758\n",
      "Epoch 97/100\n",
      "670/670 [==============================] - 4s 5ms/step - loss: 3.9123 - accuracy: 0.0778 - val_loss: 3.9498 - val_accuracy: 0.0758\n",
      "Epoch 98/100\n",
      "670/670 [==============================] - 4s 6ms/step - loss: 3.9123 - accuracy: 0.0778 - val_loss: 3.9498 - val_accuracy: 0.0758\n",
      "Epoch 99/100\n",
      "670/670 [==============================] - 4s 6ms/step - loss: 3.9123 - accuracy: 0.0778 - val_loss: 3.9498 - val_accuracy: 0.0758\n",
      "Epoch 100/100\n",
      "670/670 [==============================] - 3s 4ms/step - loss: 3.9123 - accuracy: 0.0778 - val_loss: 3.9498 - val_accuracy: 0.0758\n"
     ]
    },
    {
     "data": {
      "text/plain": [
       "<matplotlib.legend.Legend at 0x1b9464e0e20>"
      ]
     },
     "execution_count": 418,
     "metadata": {},
     "output_type": "execute_result"
    },
    {
     "data": {
      "image/png": "[encoded data removed]",
      "text/plain": [
       "<Figure size 792x432 with 2 Axes>"
      ]
     },
     "metadata": {},
     "output_type": "display_data"
    }
   ],
   "source": [
    "from keras.models import Sequential\n",
    "from tensorflow.keras import optimizers\n",
    "classifier = Sequential()\n",
    "classifier.compile(optimizer=optimizers.RMSprop(lr=0.01),\n",
    "                loss='binary_crossentropy',\n",
    "                metrics=['accuracy'])\n",
    "history = classifier.fit(X_train, y_train,\n",
    "                    validation_data=(X_test, y_test),\n",
    "                    epochs=100,\n",
    "                    batch_size=10)\n",
    "history_dict = history.history\n",
    "loss_values = history_dict['loss']\n",
    "val_loss_values = history_dict['val_loss']\n",
    "accuracy = history_dict['accuracy']\n",
    "val_accuracy = history_dict['val_accuracy']\n",
    " \n",
    "epochs = range(1, len(loss_values) + 1)\n",
    "fig, ax = plt.subplots(1, 2, figsize=(11, 6))\n",
    "#\n",
    "# Plot the model accuracy vs Epochs\n",
    "#\n",
    "ax[0].plot(epochs, accuracy, 'bo', label='Training accuracy')\n",
    "ax[0].plot(epochs, val_accuracy, 'b', label='Validation accuracy')\n",
    "ax[0].set_title('Training & Validation Accuracy', fontsize=16)\n",
    "ax[0].set_xlabel('Epochs', fontsize=16)\n",
    "ax[0].set_ylabel('Accuracy', fontsize=16)\n",
    "ax[0].legend()\n",
    "#\n",
    "# Plot the loss vs Epochs\n",
    "#\n",
    "ax[1].plot(epochs, loss_values, 'bo', label='Training loss')\n",
    "ax[1].plot(epochs, val_loss_values, 'b', label='Validation loss')\n",
    "ax[1].set_title('Training & Validation Loss', fontsize=16)\n",
    "ax[1].set_xlabel('Epochs', fontsize=16)\n",
    "ax[1].set_ylabel('Loss', fontsize=16)\n",
    "ax[1].legend()"
   ]
  },
  {
   "cell_type": "code",
   "execution_count": 417,
   "id": "9072d660",
   "metadata": {},
   "outputs": [
    {
     "name": "stdout",
     "output_type": "stream",
     "text": [
      " Our accuracy is 85.69696969696969%\n"
     ]
    }
   ],
   "source": [
    "print(\" Our accuracy is {}%\".format(((cm[0][0] + cm[1][1])/3300)*100))"
   ]
  },
  {
   "cell_type": "code",
   "execution_count": null,
   "id": "2afbf008",
   "metadata": {},
   "outputs": [],
   "source": []
  }
 ],
 "metadata": {
  "kernelspec": {
   "display_name": "Python 3 (ipykernel)",
   "language": "python",
   "name": "python3"
  },
  "language_info": {
   "codemirror_mode": {
    "name": "ipython",
    "version": 3
   },
   "file_extension": ".py",
   "mimetype": "text/x-python",
   "name": "python",
   "nbconvert_exporter": "python",
   "pygments_lexer": "ipython3",
   "version": "3.9.7"
  }
 },
 "nbformat": 4,
 "nbformat_minor": 5
}
